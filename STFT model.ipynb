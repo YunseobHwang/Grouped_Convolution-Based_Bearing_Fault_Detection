{
 "cells": [
  {
   "cell_type": "markdown",
   "metadata": {},
   "source": [
    "# GPU & Module"
   ]
  },
  {
   "cell_type": "code",
   "execution_count": 30,
   "metadata": {
    "ExecuteTime": {
     "end_time": "2019-12-01T14:28:19.126350Z",
     "start_time": "2019-12-01T14:28:17.871530Z"
    }
   },
   "outputs": [],
   "source": [
    "import os\n",
    "os.environ[\"CUDA_DEVICE_ORDER\"]=\"PCI_BUS_ID\"\n",
    "os.environ[\"CUDA_VISIBLE_DEVICES\"]=\"3\"\n",
    "\n",
    "from scipy.io import loadmat\n",
    "\n",
    "import numpy as np\n",
    "import tensorflow as tf\n",
    "\n",
    "import matplotlib.pyplot as plt\n",
    "import time\n",
    "import datetime"
   ]
  },
  {
   "cell_type": "markdown",
   "metadata": {},
   "source": [
    "# Data Import"
   ]
  },
  {
   "cell_type": "markdown",
   "metadata": {},
   "source": [
    "## Load Data"
   ]
  },
  {
   "cell_type": "code",
   "execution_count": 2,
   "metadata": {
    "ExecuteTime": {
     "end_time": "2019-12-01T14:14:12.721560Z",
     "start_time": "2019-12-01T14:14:12.703337Z"
    }
   },
   "outputs": [],
   "source": [
    "def load_mat_case_ABCD(files, key = 'Channel_1'):\n",
    "    A,B,C,D = [], [], [], []\n",
    "    for i in files:\n",
    "        mat = loadmat(i)\n",
    "        if i.find('-A-')>0:\n",
    "            A.append({'name': os.path.basename(i), key : mat[key]})\n",
    "        elif i.find('-B-')>0:\n",
    "            B.append({'name': os.path.basename(i), key : mat[key]})\n",
    "        elif i.find('-C-')>0:\n",
    "            C.append({'name': os.path.basename(i), key : mat[key]})\n",
    "        elif i.find('-D-')>0:\n",
    "            D.append({'name': os.path.basename(i), key : mat[key]})    \n",
    "    return A, B, C, D"
   ]
  },
  {
   "cell_type": "code",
   "execution_count": 46,
   "metadata": {
    "ExecuteTime": {
     "end_time": "2019-12-01T15:12:14.986342Z",
     "start_time": "2019-12-01T15:12:14.669943Z"
    }
   },
   "outputs": [],
   "source": [
    "data_dir = './resized_stft_seg/'\n",
    "\n",
    "healthy_mat_files = glob.glob(data_dir + 'Healthy' + '/*.mat')\n",
    "inner_fault_mat_files = glob.glob(data_dir + 'Inner Fault' + '/*.mat')\n",
    "outer_fault_mat_files = glob.glob(data_dir + 'Outer Fault' + '/*.mat')\n",
    "\n",
    "healthy_As, healthy_Bs, healthy_Cs, healthy_Ds = load_mat_case_ABCD(healthy_mat_files, key = 'resized_segments')\n",
    "inner_fault_As, inner_fault_Bs, inner_fault_Cs, inner_fault_Ds = load_mat_case_ABCD(inner_fault_mat_files, key = 'resized_segments')\n",
    "outer_fault_As, outer_fault_Bs, outer_fault_Cs, outer_fault_Ds = load_mat_case_ABCD(outer_fault_mat_files, key = 'resized_segments')"
   ]
  },
  {
   "cell_type": "code",
   "execution_count": 47,
   "metadata": {
    "ExecuteTime": {
     "end_time": "2019-12-01T15:12:17.809337Z",
     "start_time": "2019-12-01T15:12:17.802268Z"
    }
   },
   "outputs": [],
   "source": [
    "def one_hot(data, classes, nb_classes = 2):\n",
    "    one_hot = [0]*nb_classes\n",
    "    one_hot[classes] = 1\n",
    "    return np.vstack([one_hot for i in range(len(data))])"
   ]
  },
  {
   "cell_type": "code",
   "execution_count": 48,
   "metadata": {
    "ExecuteTime": {
     "end_time": "2019-12-01T15:12:18.490997Z",
     "start_time": "2019-12-01T15:12:18.381357Z"
    }
   },
   "outputs": [
    {
     "name": "stdout",
     "output_type": "stream",
     "text": [
      "Healthy for A: (150, 256, 256, 1) (150, 3)\n",
      "Inner fault for A: (150, 256, 256, 1) (150, 3)\n",
      "Outer fault for A: (150, 256, 256, 1) (150, 3)\n"
     ]
    }
   ],
   "source": [
    "H_A_x = np.vstack([healthy_As[i]['resized_segments'] for i in range(3)]).reshape(-1, 256, 256 ,1)\n",
    "I_A_x = np.vstack([inner_fault_As[i]['resized_segments'] for i in range(3)]).reshape(-1, 256, 256 ,1)\n",
    "O_A_x = np.vstack([outer_fault_As[i]['resized_segments'] for i in range(3)]).reshape(-1, 256, 256 ,1)\n",
    "\n",
    "H_A_y = one_hot(H_A_x, 0, nb_classes = 3)\n",
    "I_A_y = one_hot(I_A_x, 1, nb_classes = 3)\n",
    "O_A_y = one_hot(O_A_x, 2, nb_classes = 3)\n",
    "\n",
    "print(\"Healthy for A:\", H_A_x.shape, H_A_y.shape)\n",
    "print(\"Inner fault for A:\", I_A_x.shape, I_A_y.shape)\n",
    "print(\"Outer fault for A:\", O_A_x.shape, O_A_y.shape)"
   ]
  },
  {
   "cell_type": "markdown",
   "metadata": {},
   "source": [
    "## Training/Validation split"
   ]
  },
  {
   "cell_type": "code",
   "execution_count": 25,
   "metadata": {
    "ExecuteTime": {
     "end_time": "2019-12-01T14:26:38.543440Z",
     "start_time": "2019-12-01T14:26:38.534531Z"
    }
   },
   "outputs": [],
   "source": [
    "def train_valid_split(data, label, train_rate = 0.8):\n",
    "    train_idx = np.sort(np.random.choice(len(data), round(len(data)*train_rate), replace = False))\n",
    "    valid_idx = np.setxor1d(train_idx, np.arange(len(data)))\n",
    "    return data[train_idx], label[train_idx], data[valid_idx], label[valid_idx]"
   ]
  },
  {
   "cell_type": "code",
   "execution_count": 26,
   "metadata": {
    "ExecuteTime": {
     "end_time": "2019-12-01T14:26:38.905574Z",
     "start_time": "2019-12-01T14:26:38.678996Z"
    }
   },
   "outputs": [
    {
     "name": "stdout",
     "output_type": "stream",
     "text": [
      "Healthy for A: (120, 256, 256, 1) (120, 3) (30, 256, 256, 1) (30, 3)\n",
      "Inner fault for A: (120, 256, 256, 1) (120, 3) (30, 256, 256, 1) (30, 3)\n",
      "Outer fault for A: (120, 256, 256, 1) (120, 3) (30, 256, 256, 1) (30, 3)\n"
     ]
    }
   ],
   "source": [
    "H_A_train_x, H_A_train_y, H_A_valid_x, H_A_valid_y = train_valid_split(H_A_x, H_A_y)\n",
    "I_A_train_x, I_A_train_y, I_A_valid_x, I_A_valid_y = train_valid_split(I_A_x, I_A_y)\n",
    "O_A_train_x, O_A_train_y, O_A_valid_x, O_A_valid_y = train_valid_split(O_A_x, O_A_y)\n",
    "\n",
    "print(\"Healthy for A:\", H_A_train_x.shape, H_A_train_y.shape, H_A_valid_x.shape, H_A_valid_y.shape)\n",
    "print(\"Inner fault for A:\", I_A_train_x.shape, I_A_train_y.shape, I_A_valid_x.shape, I_A_valid_y.shape)\n",
    "print(\"Outer fault for A:\", O_A_train_x.shape, O_A_train_y.shape, O_A_valid_x.shape, O_A_valid_y.shape)"
   ]
  },
  {
   "cell_type": "code",
   "execution_count": 36,
   "metadata": {
    "ExecuteTime": {
     "end_time": "2019-12-01T14:32:20.143992Z",
     "start_time": "2019-12-01T14:32:20.020732Z"
    }
   },
   "outputs": [
    {
     "name": "stdout",
     "output_type": "stream",
     "text": [
      "Training set: (360, 256, 256, 1) (360, 3)\n",
      "Validation set: (90, 256, 256, 1) (90, 3)\n"
     ]
    }
   ],
   "source": [
    "train_X = np.vstack([H_A_train_x, I_A_train_x, O_A_train_x])\n",
    "train_Y = np.vstack([H_A_train_y, I_A_train_y, O_A_train_y])\n",
    "valid_X = np.vstack([H_A_valid_x, I_A_valid_x, O_A_valid_x])\n",
    "valid_Y = np.vstack([H_A_valid_y, I_A_valid_y, O_A_valid_y])\n",
    "\n",
    "print(\"Training set:\", train_X.shape, train_Y.shape)\n",
    "print(\"Validation set:\", valid_X.shape, valid_Y.shape)"
   ]
  },
  {
   "cell_type": "markdown",
   "metadata": {},
   "source": [
    "# Model"
   ]
  },
  {
   "cell_type": "code",
   "execution_count": 28,
   "metadata": {
    "ExecuteTime": {
     "end_time": "2019-12-01T14:27:27.434061Z",
     "start_time": "2019-12-01T14:27:27.426136Z"
    }
   },
   "outputs": [],
   "source": [
    "input_h = 256\n",
    "input_w = 256\n",
    "input_ch = 1\n",
    "\n",
    "k1_ch = 16\n",
    "# 128 128 16\n",
    "\n",
    "k2_ch = 16\n",
    "# 64 64 16\n",
    "\n",
    "k3_ch = 32\n",
    "# 32 32 32\n",
    "\n",
    "k4_ch = 32\n",
    "# 16 16 32\n",
    "\n",
    "k5_ch = 32\n",
    "# 8 8 32\n",
    "\n",
    "k6_ch = 64\n",
    "# 4 4 64\n",
    "\n",
    "n_hidden1 = 100\n",
    "n_hidden2 = 50\n",
    "n_output = 3"
   ]
  },
  {
   "cell_type": "code",
   "execution_count": 32,
   "metadata": {
    "ExecuteTime": {
     "end_time": "2019-12-01T14:28:33.891623Z",
     "start_time": "2019-12-01T14:28:33.056354Z"
    },
    "code_folding": []
   },
   "outputs": [
    {
     "name": "stderr",
     "output_type": "stream",
     "text": [
      "W1201 23:28:33.265618 140098228352768 deprecation.py:323] From <ipython-input-32-985a708b5ac9>:26: flatten (from tensorflow.python.layers.core) is deprecated and will be removed in a future version.\n",
      "Instructions for updating:\n",
      "Use keras.layers.flatten instead.\n",
      "W1201 23:28:33.449352 140098228352768 deprecation.py:323] From <ipython-input-32-985a708b5ac9>:29: dense (from tensorflow.python.layers.core) is deprecated and will be removed in a future version.\n",
      "Instructions for updating:\n",
      "Use keras.layers.dense instead.\n",
      "W1201 23:28:33.683027 140098228352768 deprecation.py:323] From <ipython-input-32-985a708b5ac9>:30: dropout (from tensorflow.python.layers.core) is deprecated and will be removed in a future version.\n",
      "Instructions for updating:\n",
      "Use keras.layers.dropout instead.\n",
      "W1201 23:28:33.878734 140098228352768 deprecation.py:323] From /usr/local/lib/python3.5/dist-packages/tensorflow/python/ops/losses/losses_impl.py:121: add_dispatch_support.<locals>.wrapper (from tensorflow.python.ops.array_ops) is deprecated and will be removed in a future version.\n",
      "Instructions for updating:\n",
      "Use tf.where in 2.0, which has the same broadcast rule as np.where\n"
     ]
    }
   ],
   "source": [
    "tf.reset_default_graph()\n",
    "\n",
    "x = tf.placeholder(tf.float32, [None, input_h, input_w, input_ch], name = 'img')\n",
    "y = tf.placeholder(tf.float32, [None, n_output], name = 'label')\n",
    "#rate = tf.placeholder(tf.float32, name = 'rate') # tf.layers.dropout용 얼만큼 드랍아웃할건지\n",
    "is_training = tf.placeholder(tf.bool, name = 'is_training')\n",
    "\n",
    "def CNN_block(x, k_channel, maxp_name = 'maxp'):\n",
    "    conv1 = tf.layers.conv2d(inputs = x, \n",
    "                             filters = k_channel, \n",
    "                             kernel_size = [3, 3], \n",
    "                             padding = \"SAME\",\n",
    "                             activation= tf.nn.relu)\n",
    "    conv2 = tf.layers.conv2d(inputs = conv1, \n",
    "                             filters = k_channel, \n",
    "                             kernel_size = [3, 3], \n",
    "                             padding = \"SAME\",\n",
    "                             activation= tf.nn.relu)\n",
    "    maxp = tf.layers.max_pooling2d(inputs = conv2, \n",
    "                                   pool_size = [2, 2], \n",
    "                                   strides = 2,\n",
    "                                   name = maxp_name)\n",
    "    return maxp\n",
    "\n",
    "def FC2_layer(x, n_hidden1, n_hidden2, score_name = 'score'):\n",
    "    maxp_re = tf.layers.flatten(x)\n",
    "    hidden1 = tf.layers.dense(inputs = maxp_re, \n",
    "                              units = n_hidden1,\n",
    "                              activation = tf.nn.relu)\n",
    "    hidden1 = tf.layers.dropout(hidden1, rate = 0.3, training = is_training) # Drouout\n",
    "    hidden2 = tf.layers.dense(inputs = hidden1, \n",
    "                              units = n_hidden2,\n",
    "                              activation = tf.nn.relu)\n",
    "    hidden2 = tf.layers.dropout(hidden2, rate = 0.3, training = is_training) # Drouout\n",
    "    score = tf.layers.dense(inputs = hidden2, units = n_output, name = score_name)\n",
    "    return score\n",
    "\n",
    "\n",
    "def NET(x):\n",
    "    conv1 = CNN_block(x, k1_ch, 'maxp1')\n",
    "    conv2 = CNN_block(conv1, k2_ch, 'maxp2')\n",
    "    conv3 = CNN_block(conv2, k3_ch, 'maxp3')\n",
    "    conv4 = CNN_block(conv3, k4_ch, 'maxp4')\n",
    "    conv5 = CNN_block(conv4, k5_ch, 'maxp5')\n",
    "    conv6 = CNN_block(conv5, k6_ch, 'maxp6')\n",
    "    \n",
    "    score = FC2_layer(conv6, n_hidden1, n_hidden2, 'score')\n",
    "\n",
    "    return score\n",
    "\n",
    "score = NET(x)\n",
    "\n",
    "# loss = tf.nn.softmax_cross_entropy_with_logits(labels=y, logits=score)\n",
    "loss = tf.losses.softmax_cross_entropy(onehot_labels=y, logits=score)\n",
    "loss = tf.reduce_mean(loss)"
   ]
  },
  {
   "cell_type": "markdown",
   "metadata": {},
   "source": [
    "# Training"
   ]
  },
  {
   "cell_type": "code",
   "execution_count": 37,
   "metadata": {
    "ExecuteTime": {
     "end_time": "2019-12-01T14:33:05.009795Z",
     "start_time": "2019-12-01T14:33:04.991538Z"
    }
   },
   "outputs": [],
   "source": [
    "class Contents:\n",
    "    def table(self):\n",
    "        print('==============================================================')\n",
    "        print('[Iter] || Train_accr || Valid_accr || Train_loss || Valid_loss')\n",
    "        print('==============================================================')\n",
    "    def evl(self):\n",
    "        evl = '[{0:*>4d}] || {1:*>.2f} %    || {2:*>.2f} %    || {3:.8f} || {4:.8f}'.format(n_iter, \n",
    "                                                                                      accr_train[-1]*100, accr_valid[-1]*100, \n",
    "                                                                                      loss_train[-1], loss_valid[-1])\n",
    "        return evl\n",
    "    def prt_evl(self):\n",
    "        print(self.evl())\n",
    "        print('--------------------------------------------------------------')\n",
    "    def early_under(self):\n",
    "        print(self.evl() + ' [Early stopping - Underffiting !!]\\n')\n",
    "    def early_over(self):\n",
    "        print(self.evl() + ' [Early stopping - Overffiting !!]\\n')\n",
    "    def early(self):\n",
    "        print(self.evl() + ' [Early stopping]\\n')\n",
    "    def done(self):  \n",
    "        global training_name\n",
    "        global contents\n",
    "        global filename\n",
    "        global title\n",
    "        \n",
    "        now = datetime.datetime.now()\n",
    "        nowDatetime = now.strftime('%y%m%d%H%M')\n",
    "        \n",
    "        training_name = 'H_{}'.format(nowDatetime)\n",
    "        \n",
    "        contents = (\n",
    "        'Training Time : {} Min.\\n'.format(train_time) +\n",
    "        'Early Stopping : {}\\n'.format(early_stopping) +\n",
    "        'Iteration : {}\\n'.format(n_iter)\n",
    "        )\n",
    "        print(contents)\n",
    "\n",
    "        filename = training_name + '.png'\n",
    "        title = '[iAI_Server] Training Report - {}'.format(training_name)"
   ]
  },
  {
   "cell_type": "code",
   "execution_count": 38,
   "metadata": {
    "ExecuteTime": {
     "end_time": "2019-12-01T14:33:05.134949Z",
     "start_time": "2019-12-01T14:33:05.114604Z"
    }
   },
   "outputs": [],
   "source": [
    "def random_minibatch(x, y, batch_size = 50):\n",
    "    idx = np.random.choice(len(x), batch_size)\n",
    "    return x[idx], y[idx]\n",
    "\n",
    "def shuffle(x, y):\n",
    "    idx = np.arange(len(x))\n",
    "    np.random.shuffle(idx)\n",
    "    if type(x) == type(y):\n",
    "        return x[idx], y[idx] \n",
    "    else:\n",
    "        return x[idx]\n",
    "    \n",
    "def history(save = True):\n",
    "    fig = plt.figure(figsize = (15,20))\n",
    "    plt.suptitle('Training History', y = 0.92, fontsize = 20)\n",
    "    \n",
    "    x_axis = range(1, len(accr_train)+1)\n",
    "    \n",
    "    plt.subplot(2, 1, 1)\n",
    "    plt.plot(x_axis, accr_train, 'b-', label = 'Training Accuracy')\n",
    "    plt.plot(x_axis, accr_valid, 'r-', label = 'Validation Accuracy')\n",
    "    plt.xlabel('n_iter/n_cal (n_cal = {})'.format(n_cal), fontsize = 15)\n",
    "    plt.ylabel('Accuracy', fontsize = 15)\n",
    "    plt.legend(fontsize = 10)\n",
    "    plt.subplot(2, 1, 2)\n",
    "    plt.plot(x_axis, loss_train, 'b-', label = 'Training Loss')\n",
    "    plt.plot(x_axis, loss_valid, 'r-', label = 'Validation Loss')\n",
    "    plt.xlabel('n_iter/n_cal (n_cal = {})'.format(n_cal), fontsize = 15)\n",
    "    plt.ylabel('Loss', fontsize = 15)\n",
    "#     plt.yticks(np.arange(0, 0.25, step=0.025))\n",
    "    plt.legend(fontsize = 12)\n",
    "    plt.show()\n",
    "    if save == True:\n",
    "        fig.savefig(hist_path + filename)\n",
    "        plt.close(fig)"
   ]
  },
  {
   "cell_type": "code",
   "execution_count": 45,
   "metadata": {
    "ExecuteTime": {
     "end_time": "2019-12-01T14:43:20.186278Z",
     "start_time": "2019-12-01T14:41:32.561592Z"
    }
   },
   "outputs": [
    {
     "name": "stdout",
     "output_type": "stream",
     "text": [
      "==============================================================\n",
      "[Iter] || Train_accr || Valid_accr || Train_loss || Valid_loss\n",
      "==============================================================\n",
      "[*100] || 100.00 %    || 100.00 %    || 0.16948032 || 0.14064549\n",
      "--------------------------------------------------------------\n",
      "[*200] || 100.00 %    || 100.00 %    || 0.00015487 || 0.00019499\n",
      "--------------------------------------------------------------\n",
      "[*300] || 100.00 %    || 100.00 %    || 0.00040344 || 0.00033469\n",
      "--------------------------------------------------------------\n",
      "[*400] || 100.00 %    || 100.00 %    || 0.00002634 || 0.00003028\n",
      "--------------------------------------------------------------\n",
      "[*500] || 100.00 %    || 100.00 %    || 0.00000122 || 0.00000072\n",
      "--------------------------------------------------------------\n",
      "[*600] || 100.00 %    || 100.00 %    || 0.00000122 || 0.00000193\n",
      "--------------------------------------------------------------\n",
      "[*700] || 100.00 %    || 100.00 %    || 0.00000220 || 0.00000188\n",
      "--------------------------------------------------------------\n",
      "[*800] || 100.00 %    || 100.00 %    || 0.00000149 || 0.00000119\n",
      "--------------------------------------------------------------\n",
      "[*900] || 100.00 %    || 100.00 %    || 0.00000108 || 0.00000105\n",
      "--------------------------------------------------------------\n",
      "[1000] || 100.00 %    || 100.00 %    || 0.00000006 || 0.00000009\n",
      "--------------------------------------------------------------\n",
      "[1100] || 100.00 %    || 100.00 %    || 0.00000045 || 0.00000048\n",
      "--------------------------------------------------------------\n",
      "[1200] || 100.00 %    || 100.00 %    || 0.00000043 || 0.00000053\n",
      "--------------------------------------------------------------\n",
      "[1200] || 100.00 %    || 100.00 %    || 0.00000043 || 0.00000053 [Early stopping - Overffiting !!]\n",
      "\n",
      "Training Time : 1 Min.\n",
      "Early Stopping : True\n",
      "Iteration : 1200\n",
      "\n"
     ]
    },
    {
     "data": {
      "image/png": "[encoded data removed]",
      "text/plain": [
       "<Figure size 1080x1440 with 2 Axes>"
      ]
     },
     "metadata": {
      "needs_background": "light"
     },
     "output_type": "display_data"
    }
   ],
   "source": [
    "n_batch = 60\n",
    "n_cal = 10\n",
    "n_prt = 100\n",
    "\n",
    "n_iter = 0\n",
    "\n",
    "# LR = 1e-4 # 1e-4 ~ 5e-4 (xavier)\n",
    "\n",
    "lr = 1e-4\n",
    "optm = tf.train.AdamOptimizer(lr).minimize(loss)\n",
    "\n",
    "con = Contents()\n",
    "\n",
    "accr_valid = []\n",
    "loss_valid = []\n",
    "accr_train = []\n",
    "loss_train = []\n",
    "\n",
    "early_stopping = False\n",
    "\n",
    "saver = tf.train.Saver()\n",
    "sess = tf.Session()\n",
    "\n",
    "init = tf.global_variables_initializer()\n",
    "sess.run(init)\n",
    "start_time = time.time() \n",
    "\n",
    "con.table()\n",
    "\n",
    "while True:\n",
    "    train_x, train_y = random_minibatch(train_X, train_Y, batch_size = n_batch)\n",
    "    train_x, train_y = shuffle(train_x, train_y)\n",
    "    \n",
    "    sess.run(optm, feed_dict = {'img:0': train_x, 'label:0': train_y, 'is_training:0':1})\n",
    "    n_iter += 1\n",
    "    if n_iter % n_cal == 0:\n",
    "        c, p = sess.run([loss, score], feed_dict = {'img:0': train_x, 'label:0': train_y, 'is_training:0':0})\n",
    "\n",
    "        p = np.argmax(p, axis = 1)\n",
    "        l = np.argmax(train_y, axis = 1)\n",
    "        a = np.mean(np.equal(p, l))\n",
    "        \n",
    "        valid_x, valid_y = random_minibatch(valid_X, valid_Y, batch_size = n_batch)\n",
    "        c_valid, p_valid = sess.run([loss, score], feed_dict = {'img:0': valid_x, 'label:0': valid_y, 'is_training:0':0})\n",
    "\n",
    "        p_valid = np.argmax(p_valid, axis = 1)\n",
    "        l_valid = np.argmax(valid_y, axis = 1)\n",
    "        a_valid = np.mean(np.equal(p_valid, l_valid))\n",
    "\n",
    "        accr_valid.append(a_valid)\n",
    "        loss_valid.append(c_valid)\n",
    "        accr_train.append(a)\n",
    "        loss_train.append(c)\n",
    "\n",
    "        if n_iter % n_prt == 0:\n",
    "            con.prt_evl()\n",
    "            \n",
    "        if loss_valid[-1] == np.min(loss_valid):\n",
    "            now = datetime.datetime.now()\n",
    "            nowDatetime = now.strftime('%y%m%d%H%M')\n",
    "            model_name = 'stft_{0}_{1}_val_acc_{2:.2f}_val_loss_{3:.6f}'.format(nowDatetime, n_iter, accr_valid[-1], loss_valid[-1])\n",
    "            saver.save(sess, './model/stft/' + model_name)\n",
    "        if n_iter > 1000:\n",
    "            if np.max(accr_train) < 0.9:\n",
    "                if np.mean(loss_train[-50:-30]) <= np.mean(loss_train[-30:]) :\n",
    "                    con.early_under()\n",
    "                    early_stopping = True\n",
    "                    break\n",
    "            if np.mean(accr_train[-50:]) >= 0.995:\n",
    "                if (\n",
    "                    np.mean(loss_valid[-41:-21]) <= np.mean(loss_valid[-21:-1]) and\n",
    "                    loss_valid[-1] < loss_valid[-2] # np.min(loss_valid[-20:]) == loss_valid[-1]\n",
    "                    ):\n",
    "                    con.early_over()\n",
    "                    early_stopping = True\n",
    "                    break          \n",
    "\n",
    "train_time = int((time.time() - start_time)/60)  \n",
    "con.done()\n",
    "\n",
    "history(save = False)   \n",
    "\n",
    "# sess.close()"
   ]
  }
 ],
 "metadata": {
  "hide_input": false,
  "kernelspec": {
   "display_name": "Python 3",
   "language": "python",
   "name": "python3"
  },
  "language_info": {
   "codemirror_mode": {
    "name": "ipython",
    "version": 3
   },
   "file_extension": ".py",
   "mimetype": "text/x-python",
   "name": "python",
   "nbconvert_exporter": "python",
   "pygments_lexer": "ipython3",
   "version": "3.5.2"
  },
  "toc": {
   "base_numbering": 1,
   "nav_menu": {},
   "number_sections": true,
   "sideBar": true,
   "skip_h1_title": false,
   "title_cell": "Table of Contents",
   "title_sidebar": "Contents",
   "toc_cell": false,
   "toc_position": {},
   "toc_section_display": true,
   "toc_window_display": false
  }
 },
 "nbformat": 4,
 "nbformat_minor": 2
}
