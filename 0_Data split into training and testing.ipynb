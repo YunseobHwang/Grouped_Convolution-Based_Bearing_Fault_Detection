{
 "cells": [
  {
   "cell_type": "code",
   "execution_count": 3,
   "metadata": {
    "ExecuteTime": {
     "end_time": "2019-12-15T08:19:03.320658Z",
     "start_time": "2019-12-15T08:19:01.427834Z"
    }
   },
   "outputs": [],
   "source": [
    "import os\n",
    "import numpy as np\n",
    "import matplotlib.pyplot as plt\n",
    "from utils import reshapeAsimage"
   ]
  },
  {
   "cell_type": "markdown",
   "metadata": {},
   "source": [
    "# HHT"
   ]
  },
  {
   "cell_type": "markdown",
   "metadata": {
    "heading_collapsed": true
   },
   "source": [
    "## exp pytorch (N, C, H, W)"
   ]
  },
  {
   "cell_type": "code",
   "execution_count": 7,
   "metadata": {
    "ExecuteTime": {
     "end_time": "2019-12-13T06:26:01.516711Z",
     "start_time": "2019-12-13T06:26:01.496027Z"
    },
    "hidden": true
   },
   "outputs": [
    {
     "data": {
      "text/plain": [
       "['ball_7.npy',\n",
       " 'ball_14.npy',\n",
       " 'ball_21.npy',\n",
       " 'inner_7.npy',\n",
       " 'inner_14.npy',\n",
       " 'inner_21.npy',\n",
       " 'outer_7.npy',\n",
       " 'outer_14.npy',\n",
       " 'outer_21.npy',\n",
       " 'normal.npy']"
      ]
     },
     "execution_count": 7,
     "metadata": {},
     "output_type": "execute_result"
    }
   ],
   "source": [
    "listdir = os.listdir('/mnt/disk2/data/open_source/Bearing Data Center/forCV')\n",
    "listdir = [i for i in listdir if 'npy' in i]\n",
    "listdir"
   ]
  },
  {
   "cell_type": "code",
   "execution_count": 2,
   "metadata": {
    "ExecuteTime": {
     "end_time": "2019-12-13T06:21:29.464171Z",
     "start_time": "2019-12-13T06:21:26.025019Z"
    },
    "hidden": true
   },
   "outputs": [],
   "source": [
    "ball_7 = np.load('/mnt/disk2/data/open_source/Bearing Data Center/forCV/ball_7.npy')\n",
    "ball_14 = np.load('/mnt/disk2/data/open_source/Bearing Data Center/forCV/ball_14.npy')\n",
    "ball_21 = np.load('/mnt/disk2/data/open_source/Bearing Data Center/forCV/ball_21.npy')\n",
    "inner_7 = np.load('/mnt/disk2/data/open_source/Bearing Data Center/forCV/inner_7.npy')\n",
    "inner_14 = np.load('/mnt/disk2/data/open_source/Bearing Data Center/forCV/inner_14.npy')\n",
    "inner_21 = np.load('/mnt/disk2/data/open_source/Bearing Data Center/forCV/inner_21.npy')\n",
    "outer_7 = np.load('/mnt/disk2/data/open_source/Bearing Data Center/forCV/outer_7.npy')\n",
    "outer_14 = np.load('/mnt/disk2/data/open_source/Bearing Data Center/forCV/outer_14.npy')\n",
    "outer_21 = np.load('/mnt/disk2/data/open_source/Bearing Data Center/forCV/outer_21.npy')\n",
    "normal = np.load('/mnt/disk2/data/open_source/Bearing Data Center/forCV/normal.npy')"
   ]
  },
  {
   "cell_type": "code",
   "execution_count": 3,
   "metadata": {
    "ExecuteTime": {
     "end_time": "2019-12-13T06:21:30.267328Z",
     "start_time": "2019-12-13T06:21:30.250308Z"
    },
    "hidden": true
   },
   "outputs": [
    {
     "name": "stdout",
     "output_type": "stream",
     "text": [
      "ball_7: (1000, 8, 100, 100)\n",
      "ball_14: (1000, 8, 100, 100)\n",
      "ball_21: (1000, 8, 100, 100)\n",
      "inner_7: (1000, 8, 100, 100)\n",
      "inner_14: (1000, 8, 100, 100)\n",
      "inner_21: (1000, 8, 100, 100)\n",
      "outer_7: (1000, 8, 100, 100)\n",
      "outer_14: (1000, 8, 100, 100)\n",
      "outer_21: (1000, 8, 100, 100)\n",
      "normal: (1000, 8, 100, 100)\n"
     ]
    }
   ],
   "source": [
    "print('ball_7:', ball_7.shape)\n",
    "print('ball_14:', ball_14.shape)\n",
    "print('ball_21:', ball_21.shape)\n",
    "print('inner_7:', inner_7.shape)\n",
    "print('inner_14:', inner_14.shape)\n",
    "print('inner_21:', inner_21.shape)\n",
    "print('outer_7:', outer_7.shape)\n",
    "print('outer_14:', outer_14.shape)\n",
    "print('outer_21:', outer_21.shape)\n",
    "print('normal:', normal.shape)"
   ]
  },
  {
   "cell_type": "code",
   "execution_count": 6,
   "metadata": {
    "ExecuteTime": {
     "end_time": "2019-12-13T05:59:09.398508Z",
     "start_time": "2019-12-13T05:59:05.897168Z"
    },
    "hidden": true
   },
   "outputs": [],
   "source": [
    "train_dir = '/mnt/disk1/yunseob/courses/19-2_computer vision/data/HHT/nchw/train'\n",
    "test_dir = '/mnt/disk1/yunseob/courses/19-2_computer vision/data/HHT/nchw/test'\n",
    "\n",
    "for data, filename in zip(listdata, listdir):\n",
    "    np.save(os.path.join(train_dir, filename), data[:750])\n",
    "    np.save(os.path.join(test_dir, filename), data[750:])"
   ]
  },
  {
   "cell_type": "code",
   "execution_count": 8,
   "metadata": {
    "ExecuteTime": {
     "end_time": "2019-12-13T06:00:33.154385Z",
     "start_time": "2019-12-13T06:00:33.145410Z"
    },
    "hidden": true
   },
   "outputs": [
    {
     "data": {
      "text/plain": [
       "['ball_7.npy',\n",
       " 'ball_14.npy',\n",
       " 'ball_21.npy',\n",
       " 'inner_7.npy',\n",
       " 'inner_14.npy',\n",
       " 'inner_21.npy',\n",
       " 'outer_7.npy',\n",
       " 'outer_14.npy',\n",
       " 'outer_21.npy',\n",
       " 'normal.npy']"
      ]
     },
     "execution_count": 8,
     "metadata": {},
     "output_type": "execute_result"
    }
   ],
   "source": [
    "listdir = os.listdir(train_dir)\n",
    "listdir"
   ]
  },
  {
   "cell_type": "code",
   "execution_count": 11,
   "metadata": {
    "ExecuteTime": {
     "end_time": "2019-12-13T06:02:25.544009Z",
     "start_time": "2019-12-13T06:02:23.021075Z"
    },
    "hidden": true
   },
   "outputs": [],
   "source": [
    "ball_7 = np.load(os.path.join(train_dir, listdir[0]))\n",
    "ball_14 = np.load(os.path.join(train_dir, listdir[1]))\n",
    "ball_21 = np.load(os.path.join(train_dir, listdir[2]))\n",
    "inner_7 = np.load(os.path.join(train_dir, listdir[3]))\n",
    "inner_14 = np.load(os.path.join(train_dir, listdir[4]))\n",
    "inner_21 = np.load(os.path.join(train_dir, listdir[5]))\n",
    "outer_7 = np.load(os.path.join(train_dir, listdir[6]))\n",
    "outer_14 = np.load(os.path.join(train_dir, listdir[7]))\n",
    "outer_21 = np.load(os.path.join(train_dir, listdir[8]))\n",
    "normal = np.load(os.path.join(train_dir, listdir[9]))"
   ]
  },
  {
   "cell_type": "code",
   "execution_count": 12,
   "metadata": {
    "ExecuteTime": {
     "end_time": "2019-12-13T06:02:26.092438Z",
     "start_time": "2019-12-13T06:02:26.078464Z"
    },
    "hidden": true
   },
   "outputs": [
    {
     "name": "stdout",
     "output_type": "stream",
     "text": [
      "ball_7: (750, 8, 100, 100)\n",
      "ball_14: (750, 8, 100, 100)\n",
      "ball_21: (750, 8, 100, 100)\n",
      "inner_7: (750, 8, 100, 100)\n",
      "inner_14: (750, 8, 100, 100)\n",
      "inner_21: (750, 8, 100, 100)\n",
      "outer_7: (750, 8, 100, 100)\n",
      "outer_14: (750, 8, 100, 100)\n",
      "outer_21: (750, 8, 100, 100)\n",
      "normal: (750, 8, 100, 100)\n"
     ]
    }
   ],
   "source": [
    "print('ball_7:', ball_7.shape)\n",
    "print('ball_14:', ball_14.shape)\n",
    "print('ball_21:', ball_21.shape)\n",
    "print('inner_7:', inner_7.shape)\n",
    "print('inner_14:', inner_14.shape)\n",
    "print('inner_21:', inner_21.shape)\n",
    "print('outer_7:', outer_7.shape)\n",
    "print('outer_14:', outer_14.shape)\n",
    "print('outer_21:', outer_21.shape)\n",
    "print('normal:', normal.shape)"
   ]
  },
  {
   "cell_type": "code",
   "execution_count": 6,
   "metadata": {
    "ExecuteTime": {
     "end_time": "2019-12-13T06:26:01.353582Z",
     "start_time": "2019-12-13T06:26:01.346972Z"
    },
    "hidden": true
   },
   "outputs": [],
   "source": [
    "listdata = [ball_7, ball_14, ball_21, inner_7, inner_14, inner_21, outer_7, outer_14, outer_21, normal]"
   ]
  },
  {
   "cell_type": "markdown",
   "metadata": {
    "heading_collapsed": true
   },
   "source": [
    "## exp reshape"
   ]
  },
  {
   "cell_type": "code",
   "execution_count": 4,
   "metadata": {
    "ExecuteTime": {
     "end_time": "2019-12-13T06:21:32.085624Z",
     "start_time": "2019-12-13T06:21:32.073064Z"
    },
    "hidden": true
   },
   "outputs": [],
   "source": [
    "def reshapeAsimage(data):\n",
    "    \"\"\"\n",
    "    inputshape = (Number, Channel, Height(f), Width(t))\n",
    "    outputshape = (Number, Height(f), Width(t), Channel)\n",
    "    \"\"\"\n",
    "    N, H, W, C = data.shape[0], data.shape[2], data.shape[3], data.shape[1]\n",
    "    reshape = np.zeros([N, H, W, C])\n",
    "    for n in range(N):\n",
    "        for f in range(H):\n",
    "            for t in range(W):\n",
    "                for c in range(C):\n",
    "                    reshape[n, f, t, c] = data[n, c, f, t]\n",
    "    return reshape"
   ]
  },
  {
   "cell_type": "code",
   "execution_count": 5,
   "metadata": {
    "ExecuteTime": {
     "end_time": "2019-12-13T06:25:28.132067Z",
     "start_time": "2019-12-13T06:21:33.317006Z"
    },
    "hidden": true
   },
   "outputs": [
    {
     "name": "stdout",
     "output_type": "stream",
     "text": [
      "ball_7: (1000, 100, 100, 8)\n",
      "ball_14: (1000, 100, 100, 8)\n",
      "ball_21: (1000, 100, 100, 8)\n",
      "inner_7: (1000, 100, 100, 8)\n",
      "inner_14: (1000, 100, 100, 8)\n",
      "inner_21: (1000, 100, 100, 8)\n",
      "outer_7: (1000, 100, 100, 8)\n",
      "outer_14: (1000, 100, 100, 8)\n",
      "outer_21: (1000, 100, 100, 8)\n",
      "normal: (1000, 100, 100, 8)\n"
     ]
    }
   ],
   "source": [
    "ball_7 = reshapeAsimage(ball_7)\n",
    "ball_14 = reshapeAsimage(ball_14)\n",
    "ball_21 = reshapeAsimage(ball_21)\n",
    "inner_7 = reshapeAsimage(inner_7)\n",
    "inner_14 = reshapeAsimage(inner_14)\n",
    "inner_21 = reshapeAsimage(inner_21)\n",
    "outer_7 = reshapeAsimage(outer_7)\n",
    "outer_14 = reshapeAsimage(outer_14)\n",
    "outer_21 = reshapeAsimage(outer_21)\n",
    "normal = reshapeAsimage(normal)\n",
    "\n",
    "print('ball_7:', ball_7.shape)\n",
    "print('ball_14:', ball_14.shape)\n",
    "print('ball_21:', ball_21.shape)\n",
    "print('inner_7:', inner_7.shape)\n",
    "print('inner_14:', inner_14.shape)\n",
    "print('inner_21:', inner_21.shape)\n",
    "print('outer_7:', outer_7.shape)\n",
    "print('outer_14:', outer_14.shape)\n",
    "print('outer_21:', outer_21.shape)\n",
    "print('normal:', normal.shape)"
   ]
  },
  {
   "cell_type": "code",
   "execution_count": 8,
   "metadata": {
    "ExecuteTime": {
     "end_time": "2019-12-13T06:27:13.247106Z",
     "start_time": "2019-12-13T06:27:13.241175Z"
    },
    "hidden": true
   },
   "outputs": [],
   "source": [
    "listdata = [ball_7, ball_14, ball_21, inner_7, inner_14, inner_21, outer_7, outer_14, outer_21, normal]"
   ]
  },
  {
   "cell_type": "code",
   "execution_count": 9,
   "metadata": {
    "ExecuteTime": {
     "end_time": "2019-12-13T06:27:25.695704Z",
     "start_time": "2019-12-13T06:27:22.114578Z"
    },
    "code_folding": [],
    "hidden": true
   },
   "outputs": [],
   "source": [
    "train_dir = '/mnt/disk1/yunseob/courses/19-2_computer vision/data/HHT/exp/train'\n",
    "test_dir = '/mnt/disk1/yunseob/courses/19-2_computer vision/data/HHT/exp/test'\n",
    "\n",
    "for data, filename in zip(listdata, listdir):\n",
    "    np.save(os.path.join(train_dir, filename), data[:750])\n",
    "    np.save(os.path.join(test_dir, filename), data[750:])"
   ]
  },
  {
   "cell_type": "code",
   "execution_count": 10,
   "metadata": {
    "ExecuteTime": {
     "end_time": "2019-12-13T06:27:27.181734Z",
     "start_time": "2019-12-13T06:27:27.170852Z"
    },
    "hidden": true
   },
   "outputs": [
    {
     "data": {
      "text/plain": [
       "['ball_7.npy',\n",
       " 'ball_14.npy',\n",
       " 'ball_21.npy',\n",
       " 'inner_7.npy',\n",
       " 'inner_14.npy',\n",
       " 'inner_21.npy',\n",
       " 'outer_7.npy',\n",
       " 'outer_14.npy',\n",
       " 'outer_21.npy',\n",
       " 'normal.npy']"
      ]
     },
     "execution_count": 10,
     "metadata": {},
     "output_type": "execute_result"
    }
   ],
   "source": [
    "listdir = os.listdir(train_dir)\n",
    "listdir"
   ]
  },
  {
   "cell_type": "code",
   "execution_count": 11,
   "metadata": {
    "ExecuteTime": {
     "end_time": "2019-12-13T06:27:39.122980Z",
     "start_time": "2019-12-13T06:27:36.561515Z"
    },
    "hidden": true
   },
   "outputs": [],
   "source": [
    "ball_7 = np.load(os.path.join(train_dir, listdir[0]))\n",
    "ball_14 = np.load(os.path.join(train_dir, listdir[1]))\n",
    "ball_21 = np.load(os.path.join(train_dir, listdir[2]))\n",
    "inner_7 = np.load(os.path.join(train_dir, listdir[3]))\n",
    "inner_14 = np.load(os.path.join(train_dir, listdir[4]))\n",
    "inner_21 = np.load(os.path.join(train_dir, listdir[5]))\n",
    "outer_7 = np.load(os.path.join(train_dir, listdir[6]))\n",
    "outer_14 = np.load(os.path.join(train_dir, listdir[7]))\n",
    "outer_21 = np.load(os.path.join(train_dir, listdir[8]))\n",
    "normal = np.load(os.path.join(train_dir, listdir[9]))"
   ]
  },
  {
   "cell_type": "code",
   "execution_count": 12,
   "metadata": {
    "ExecuteTime": {
     "end_time": "2019-12-13T06:27:39.134353Z",
     "start_time": "2019-12-13T06:27:39.125082Z"
    },
    "hidden": true
   },
   "outputs": [
    {
     "name": "stdout",
     "output_type": "stream",
     "text": [
      "ball_7: (750, 100, 100, 8)\n",
      "ball_14: (750, 100, 100, 8)\n",
      "ball_21: (750, 100, 100, 8)\n",
      "inner_7: (750, 100, 100, 8)\n",
      "inner_14: (750, 100, 100, 8)\n",
      "inner_21: (750, 100, 100, 8)\n",
      "outer_7: (750, 100, 100, 8)\n",
      "outer_14: (750, 100, 100, 8)\n",
      "outer_21: (750, 100, 100, 8)\n",
      "normal: (750, 100, 100, 8)\n"
     ]
    }
   ],
   "source": [
    "print('ball_7:', ball_7.shape)\n",
    "print('ball_14:', ball_14.shape)\n",
    "print('ball_21:', ball_21.shape)\n",
    "print('inner_7:', inner_7.shape)\n",
    "print('inner_14:', inner_14.shape)\n",
    "print('inner_21:', inner_21.shape)\n",
    "print('outer_7:', outer_7.shape)\n",
    "print('outer_14:', outer_14.shape)\n",
    "print('outer_21:', outer_21.shape)\n",
    "print('normal:', normal.shape)"
   ]
  },
  {
   "cell_type": "markdown",
   "metadata": {
    "heading_collapsed": true
   },
   "source": [
    "## exp_normalized"
   ]
  },
  {
   "cell_type": "markdown",
   "metadata": {
    "heading_collapsed": true,
    "hidden": true
   },
   "source": [
    "### train data"
   ]
  },
  {
   "cell_type": "code",
   "execution_count": 2,
   "metadata": {
    "ExecuteTime": {
     "end_time": "2019-12-13T13:29:41.191290Z",
     "start_time": "2019-12-13T13:29:41.170837Z"
    },
    "hidden": true
   },
   "outputs": [
    {
     "data": {
      "text/plain": [
       "['ball_7.npy',\n",
       " 'ball_14.npy',\n",
       " 'ball_21.npy',\n",
       " 'inner_7.npy',\n",
       " 'inner_14.npy',\n",
       " 'inner_21.npy',\n",
       " 'outer_7.npy',\n",
       " 'outer_14.npy',\n",
       " 'outer_21.npy',\n",
       " 'normal.npy']"
      ]
     },
     "execution_count": 2,
     "metadata": {},
     "output_type": "execute_result"
    }
   ],
   "source": [
    "train_dir = '/mnt/disk1/yunseob/courses/19-2_computer vision/data/HHT/exp/train'\n",
    "listdir = os.listdir(train_dir)\n",
    "listdir"
   ]
  },
  {
   "cell_type": "code",
   "execution_count": 30,
   "metadata": {
    "ExecuteTime": {
     "end_time": "2019-12-13T13:36:16.156341Z",
     "start_time": "2019-12-13T13:36:13.475962Z"
    },
    "hidden": true
   },
   "outputs": [
    {
     "name": "stdout",
     "output_type": "stream",
     "text": [
      "ball_7: (750, 100, 100, 8)\n",
      "ball_14: (750, 100, 100, 8)\n",
      "ball_21: (750, 100, 100, 8)\n",
      "inner_7: (750, 100, 100, 8)\n",
      "inner_14: (750, 100, 100, 8)\n",
      "inner_21: (750, 100, 100, 8)\n",
      "outer_7: (750, 100, 100, 8)\n",
      "outer_14: (750, 100, 100, 8)\n",
      "outer_21: (750, 100, 100, 8)\n",
      "normal: (750, 100, 100, 8)\n"
     ]
    }
   ],
   "source": [
    "ball_7 = np.load(os.path.join(train_dir, listdir[0]))\n",
    "ball_14 = np.load(os.path.join(train_dir, listdir[1]))\n",
    "ball_21 = np.load(os.path.join(train_dir, listdir[2]))\n",
    "inner_7 = np.load(os.path.join(train_dir, listdir[3]))\n",
    "inner_14 = np.load(os.path.join(train_dir, listdir[4]))\n",
    "inner_21 = np.load(os.path.join(train_dir, listdir[5]))\n",
    "outer_7 = np.load(os.path.join(train_dir, listdir[6]))\n",
    "outer_14 = np.load(os.path.join(train_dir, listdir[7]))\n",
    "outer_21 = np.load(os.path.join(train_dir, listdir[8]))\n",
    "normal = np.load(os.path.join(train_dir, listdir[9]))\n",
    "\n",
    "print('ball_7:', ball_7.shape)\n",
    "print('ball_14:', ball_14.shape)\n",
    "print('ball_21:', ball_21.shape)\n",
    "print('inner_7:', inner_7.shape)\n",
    "print('inner_14:', inner_14.shape)\n",
    "print('inner_21:', inner_21.shape)\n",
    "print('outer_7:', outer_7.shape)\n",
    "print('outer_14:', outer_14.shape)\n",
    "print('outer_21:', outer_21.shape)\n",
    "print('normal:', normal.shape)"
   ]
  },
  {
   "cell_type": "code",
   "execution_count": 58,
   "metadata": {
    "ExecuteTime": {
     "end_time": "2019-12-13T13:50:00.503183Z",
     "start_time": "2019-12-13T13:50:00.494378Z"
    },
    "hidden": true
   },
   "outputs": [],
   "source": [
    "def norm_chwise(data):\n",
    "    n_data = np.zeros(data.shape)\n",
    "    for c in range(data.shape[2]):\n",
    "        n_data[:, :, c] = data[:, :, c]/np.max(data[:, :, c])\n",
    "    return n_data.astype('float64')"
   ]
  },
  {
   "cell_type": "code",
   "execution_count": 59,
   "metadata": {
    "ExecuteTime": {
     "end_time": "2019-12-13T13:50:11.835421Z",
     "start_time": "2019-12-13T13:50:03.096901Z"
    },
    "hidden": true
   },
   "outputs": [],
   "source": [
    "normal_n = np.zeros(normal.shape)\n",
    "ball_7_n, ball_14_n, ball_21_n = np.zeros(ball_7.shape), np.zeros(ball_14.shape), np.zeros(ball_21.shape)\n",
    "inner_7_n, inner_14_n, inner_21_n = np.zeros(inner_7.shape), np.zeros(inner_14.shape), np.zeros(inner_21.shape)\n",
    "outer_7_n, outer_14_n, outer_21_n = np.zeros(outer_7.shape), np.zeros(outer_14.shape), np.zeros(outer_21.shape)\n",
    "\n",
    "for i, n, b_7, b_14, b_21, i_7, i_14, i_21, o_7, o_14, o_21 in zip(range(len(normal)), \n",
    "                                                                   normal, \n",
    "                                                                   ball_7, ball_14, ball_21, \n",
    "                                                                   inner_7, inner_14, inner_21,\n",
    "                                                                   outer_7, outer_14, outer_21):\n",
    "    normal_n[i] = norm_chwise(n)\n",
    "    ball_7_n[i], ball_14_n[i], ball_21_n[i] = norm_chwise(b_7), norm_chwise(b_14), norm_chwise(b_21)\n",
    "    inner_7_n[i], inner_14_n[i], inner_21_n[i] = norm_chwise(i_7), norm_chwise(i_14), norm_chwise(i_21)\n",
    "    outer_7_n[i], outer_14_n[i], outer_21_n[i] = norm_chwise(o_7), norm_chwise(o_14), norm_chwise(o_21)"
   ]
  },
  {
   "cell_type": "code",
   "execution_count": 64,
   "metadata": {
    "ExecuteTime": {
     "end_time": "2019-12-13T13:51:25.553818Z",
     "start_time": "2019-12-13T13:51:24.549156Z"
    },
    "hidden": true
   },
   "outputs": [
    {
     "data": {
      "image/png": "[encoded data removed]",
      "text/plain": [
       "<Figure size 1440x720 with 8 Axes>"
      ]
     },
     "metadata": {
      "needs_background": "light"
     },
     "output_type": "display_data"
    }
   ],
   "source": [
    "plt.figure(figsize = (20, 10))\n",
    "for i in range(8):\n",
    "    plt.subplot(2, 4, i+1); plt.title(np.max(inner_7[0, :, :, i])); plt.imshow(inner_7[0, :, :, i])"
   ]
  },
  {
   "cell_type": "code",
   "execution_count": 65,
   "metadata": {
    "ExecuteTime": {
     "end_time": "2019-12-13T13:51:30.906664Z",
     "start_time": "2019-12-13T13:51:29.933123Z"
    },
    "hidden": true
   },
   "outputs": [
    {
     "data": {
      "image/png": "[encoded data removed]",
      "text/plain": [
       "<Figure size 1440x720 with 8 Axes>"
      ]
     },
     "metadata": {
      "needs_background": "light"
     },
     "output_type": "display_data"
    }
   ],
   "source": [
    "plt.figure(figsize = (20, 10))\n",
    "for i in range(8):\n",
    "    plt.subplot(2, 4, i+1);  plt.title(np.max(inner_7_n[0, :, :, i])); plt.imshow(inner_7_n[0, :, :, i])"
   ]
  },
  {
   "cell_type": "code",
   "execution_count": 66,
   "metadata": {
    "ExecuteTime": {
     "end_time": "2019-12-13T13:54:00.261254Z",
     "start_time": "2019-12-13T13:54:00.250901Z"
    },
    "hidden": true
   },
   "outputs": [
    {
     "data": {
      "text/plain": [
       "['ball_7.npy',\n",
       " 'ball_14.npy',\n",
       " 'ball_21.npy',\n",
       " 'inner_7.npy',\n",
       " 'inner_14.npy',\n",
       " 'inner_21.npy',\n",
       " 'outer_7.npy',\n",
       " 'outer_14.npy',\n",
       " 'outer_21.npy',\n",
       " 'normal.npy']"
      ]
     },
     "execution_count": 66,
     "metadata": {},
     "output_type": "execute_result"
    }
   ],
   "source": [
    "listdir"
   ]
  },
  {
   "cell_type": "code",
   "execution_count": 68,
   "metadata": {
    "ExecuteTime": {
     "end_time": "2019-12-13T13:55:03.987999Z",
     "start_time": "2019-12-13T13:55:03.981913Z"
    },
    "hidden": true
   },
   "outputs": [],
   "source": [
    "listdata = [ball_7_n, ball_14_n, ball_21_n, inner_7_n, inner_14_n, inner_21_n, outer_7_n, outer_14_n, outer_21_n, normal_n]"
   ]
  },
  {
   "cell_type": "code",
   "execution_count": 69,
   "metadata": {
    "ExecuteTime": {
     "end_time": "2019-12-13T13:56:16.570945Z",
     "start_time": "2019-12-13T13:56:14.029964Z"
    },
    "hidden": true
   },
   "outputs": [],
   "source": [
    "train_dir = '/mnt/disk1/yunseob/courses/19-2_computer vision/data/HHT/exp_norm/train'\n",
    "\n",
    "for data, filename in zip(listdata, listdir):\n",
    "    np.save(os.path.join(train_dir, filename), data)"
   ]
  },
  {
   "cell_type": "markdown",
   "metadata": {
    "heading_collapsed": true,
    "hidden": true
   },
   "source": [
    "### test data"
   ]
  },
  {
   "cell_type": "code",
   "execution_count": 70,
   "metadata": {
    "ExecuteTime": {
     "end_time": "2019-12-13T13:57:04.090198Z",
     "start_time": "2019-12-13T13:57:04.078633Z"
    },
    "hidden": true
   },
   "outputs": [
    {
     "data": {
      "text/plain": [
       "['ball_7.npy',\n",
       " 'ball_14.npy',\n",
       " 'ball_21.npy',\n",
       " 'inner_7.npy',\n",
       " 'inner_14.npy',\n",
       " 'inner_21.npy',\n",
       " 'outer_7.npy',\n",
       " 'outer_14.npy',\n",
       " 'outer_21.npy',\n",
       " 'normal.npy']"
      ]
     },
     "execution_count": 70,
     "metadata": {},
     "output_type": "execute_result"
    }
   ],
   "source": [
    "test_dir = '/mnt/disk1/yunseob/courses/19-2_computer vision/data/HHT/exp/test'\n",
    "listdir = os.listdir(test_dir)\n",
    "listdir"
   ]
  },
  {
   "cell_type": "code",
   "execution_count": 72,
   "metadata": {
    "ExecuteTime": {
     "end_time": "2019-12-13T13:57:20.921919Z",
     "start_time": "2019-12-13T13:57:19.900316Z"
    },
    "hidden": true
   },
   "outputs": [
    {
     "name": "stdout",
     "output_type": "stream",
     "text": [
      "ball_7: (250, 100, 100, 8)\n",
      "ball_14: (250, 100, 100, 8)\n",
      "ball_21: (250, 100, 100, 8)\n",
      "inner_7: (250, 100, 100, 8)\n",
      "inner_14: (250, 100, 100, 8)\n",
      "inner_21: (250, 100, 100, 8)\n",
      "outer_7: (250, 100, 100, 8)\n",
      "outer_14: (250, 100, 100, 8)\n",
      "outer_21: (250, 100, 100, 8)\n",
      "normal: (250, 100, 100, 8)\n"
     ]
    }
   ],
   "source": [
    "ball_7 = np.load(os.path.join(test_dir, listdir[0]))\n",
    "ball_14 = np.load(os.path.join(test_dir, listdir[1]))\n",
    "ball_21 = np.load(os.path.join(test_dir, listdir[2]))\n",
    "inner_7 = np.load(os.path.join(test_dir, listdir[3]))\n",
    "inner_14 = np.load(os.path.join(test_dir, listdir[4]))\n",
    "inner_21 = np.load(os.path.join(test_dir, listdir[5]))\n",
    "outer_7 = np.load(os.path.join(test_dir, listdir[6]))\n",
    "outer_14 = np.load(os.path.join(test_dir, listdir[7]))\n",
    "outer_21 = np.load(os.path.join(test_dir, listdir[8]))\n",
    "normal = np.load(os.path.join(test_dir, listdir[9]))\n",
    "\n",
    "print('ball_7:', ball_7.shape)\n",
    "print('ball_14:', ball_14.shape)\n",
    "print('ball_21:', ball_21.shape)\n",
    "print('inner_7:', inner_7.shape)\n",
    "print('inner_14:', inner_14.shape)\n",
    "print('inner_21:', inner_21.shape)\n",
    "print('outer_7:', outer_7.shape)\n",
    "print('outer_14:', outer_14.shape)\n",
    "print('outer_21:', outer_21.shape)\n",
    "print('normal:', normal.shape)"
   ]
  },
  {
   "cell_type": "code",
   "execution_count": 73,
   "metadata": {
    "ExecuteTime": {
     "end_time": "2019-12-13T13:58:15.660332Z",
     "start_time": "2019-12-13T13:58:12.867938Z"
    },
    "hidden": true
   },
   "outputs": [],
   "source": [
    "normal_n = np.zeros(normal.shape)\n",
    "ball_7_n, ball_14_n, ball_21_n = np.zeros(ball_7.shape), np.zeros(ball_14.shape), np.zeros(ball_21.shape)\n",
    "inner_7_n, inner_14_n, inner_21_n = np.zeros(inner_7.shape), np.zeros(inner_14.shape), np.zeros(inner_21.shape)\n",
    "outer_7_n, outer_14_n, outer_21_n = np.zeros(outer_7.shape), np.zeros(outer_14.shape), np.zeros(outer_21.shape)\n",
    "\n",
    "for i, n, b_7, b_14, b_21, i_7, i_14, i_21, o_7, o_14, o_21 in zip(range(len(normal)), \n",
    "                                                                   normal, \n",
    "                                                                   ball_7, ball_14, ball_21, \n",
    "                                                                   inner_7, inner_14, inner_21,\n",
    "                                                                   outer_7, outer_14, outer_21):\n",
    "    normal_n[i] = norm_chwise(n)\n",
    "    ball_7_n[i], ball_14_n[i], ball_21_n[i] = norm_chwise(b_7), norm_chwise(b_14), norm_chwise(b_21)\n",
    "    inner_7_n[i], inner_14_n[i], inner_21_n[i] = norm_chwise(i_7), norm_chwise(i_14), norm_chwise(i_21)\n",
    "    outer_7_n[i], outer_14_n[i], outer_21_n[i] = norm_chwise(o_7), norm_chwise(o_14), norm_chwise(o_21)"
   ]
  },
  {
   "cell_type": "code",
   "execution_count": 74,
   "metadata": {
    "ExecuteTime": {
     "end_time": "2019-12-13T13:58:23.462536Z",
     "start_time": "2019-12-13T13:58:22.419247Z"
    },
    "hidden": true
   },
   "outputs": [
    {
     "data": {
      "image/png": "[encoded data removed]",
      "text/plain": [
       "<Figure size 1440x720 with 8 Axes>"
      ]
     },
     "metadata": {
      "needs_background": "light"
     },
     "output_type": "display_data"
    }
   ],
   "source": [
    "plt.figure(figsize = (20, 10))\n",
    "for i in range(8):\n",
    "    plt.subplot(2, 4, i+1); plt.title(np.max(inner_7[0, :, :, i])); plt.imshow(inner_7[0, :, :, i])"
   ]
  },
  {
   "cell_type": "code",
   "execution_count": 75,
   "metadata": {
    "ExecuteTime": {
     "end_time": "2019-12-13T13:58:26.984816Z",
     "start_time": "2019-12-13T13:58:26.034696Z"
    },
    "hidden": true
   },
   "outputs": [
    {
     "data": {
      "image/png": "[encoded data removed]",
      "text/plain": [
       "<Figure size 1440x720 with 8 Axes>"
      ]
     },
     "metadata": {
      "needs_background": "light"
     },
     "output_type": "display_data"
    }
   ],
   "source": [
    "plt.figure(figsize = (20, 10))\n",
    "for i in range(8):\n",
    "    plt.subplot(2, 4, i+1);  plt.title(np.max(inner_7_n[0, :, :, i])); plt.imshow(inner_7_n[0, :, :, i])"
   ]
  },
  {
   "cell_type": "code",
   "execution_count": 76,
   "metadata": {
    "ExecuteTime": {
     "end_time": "2019-12-13T13:58:51.100775Z",
     "start_time": "2019-12-13T13:58:51.091368Z"
    },
    "hidden": true
   },
   "outputs": [
    {
     "data": {
      "text/plain": [
       "['ball_7.npy',\n",
       " 'ball_14.npy',\n",
       " 'ball_21.npy',\n",
       " 'inner_7.npy',\n",
       " 'inner_14.npy',\n",
       " 'inner_21.npy',\n",
       " 'outer_7.npy',\n",
       " 'outer_14.npy',\n",
       " 'outer_21.npy',\n",
       " 'normal.npy']"
      ]
     },
     "execution_count": 76,
     "metadata": {},
     "output_type": "execute_result"
    }
   ],
   "source": [
    "listdir"
   ]
  },
  {
   "cell_type": "code",
   "execution_count": 77,
   "metadata": {
    "ExecuteTime": {
     "end_time": "2019-12-13T13:58:52.035446Z",
     "start_time": "2019-12-13T13:58:51.883745Z"
    },
    "hidden": true
   },
   "outputs": [],
   "source": [
    "listdata = [ball_7_n, ball_14_n, ball_21_n, inner_7_n, inner_14_n, inner_21_n, outer_7_n, outer_14_n, outer_21_n, normal_n]"
   ]
  },
  {
   "cell_type": "code",
   "execution_count": 78,
   "metadata": {
    "ExecuteTime": {
     "end_time": "2019-12-13T13:58:56.002946Z",
     "start_time": "2019-12-13T13:58:55.137861Z"
    },
    "hidden": true
   },
   "outputs": [],
   "source": [
    "test_dir = '/mnt/disk1/yunseob/courses/19-2_computer vision/data/HHT/exp_norm/test'\n",
    " \n",
    "for data, filename in zip(listdata, listdir):\n",
    "    np.save(os.path.join(test_dir, filename), data)"
   ]
  },
  {
   "cell_type": "markdown",
   "metadata": {
    "heading_collapsed": true
   },
   "source": [
    "## linear 6000"
   ]
  },
  {
   "cell_type": "code",
   "execution_count": 8,
   "metadata": {
    "ExecuteTime": {
     "end_time": "2019-12-14T11:22:12.622071Z",
     "start_time": "2019-12-14T11:22:12.613622Z"
    },
    "hidden": true
   },
   "outputs": [
    {
     "data": {
      "text/plain": [
       "['ball_7.npy',\n",
       " 'ball_14.npy',\n",
       " 'ball_21.npy',\n",
       " 'inner_7.npy',\n",
       " 'inner_14.npy',\n",
       " 'inner_21.npy',\n",
       " 'outer_7.npy',\n",
       " 'outer_14.npy',\n",
       " 'outer_21.npy',\n",
       " 'normal.npy']"
      ]
     },
     "execution_count": 8,
     "metadata": {},
     "output_type": "execute_result"
    }
   ],
   "source": [
    "data_dir =  '/mnt/disk2/data/open_source/Bearing Data Center/forCV/clean_6000'\n",
    "listdir = os.listdir(data_dir)\n",
    "listdir"
   ]
  },
  {
   "cell_type": "code",
   "execution_count": 5,
   "metadata": {
    "ExecuteTime": {
     "end_time": "2019-12-14T11:19:47.123926Z",
     "start_time": "2019-12-14T11:19:44.264677Z"
    },
    "hidden": true
   },
   "outputs": [
    {
     "name": "stdout",
     "output_type": "stream",
     "text": [
      "ball_7: (1000, 6, 100, 100)\n",
      "ball_14: (1000, 6, 100, 100)\n",
      "ball_21: (1000, 6, 100, 100)\n",
      "inner_7: (1000, 6, 100, 100)\n",
      "inner_14: (1000, 6, 100, 100)\n",
      "inner_21: (1000, 6, 100, 100)\n",
      "outer_7: (1000, 6, 100, 100)\n",
      "outer_14: (1000, 6, 100, 100)\n",
      "outer_21: (1000, 6, 100, 100)\n",
      "normal: (1000, 6, 100, 100)\n"
     ]
    }
   ],
   "source": [
    "normal = np.load(os.path.join(data_dir, listdir[9]))\n",
    "ball_7 = np.load(os.path.join(data_dir, listdir[0]))\n",
    "ball_14 = np.load(os.path.join(data_dir, listdir[1]))\n",
    "ball_21 = np.load(os.path.join(data_dir, listdir[2]))\n",
    "inner_7 = np.load(os.path.join(data_dir, listdir[3]))\n",
    "inner_14 = np.load(os.path.join(data_dir, listdir[4]))\n",
    "inner_21 = np.load(os.path.join(data_dir, listdir[5]))\n",
    "outer_7 = np.load(os.path.join(data_dir, listdir[6]))\n",
    "outer_14 = np.load(os.path.join(data_dir, listdir[7]))\n",
    "outer_21 = np.load(os.path.join(data_dir, listdir[8]))\n",
    "\n",
    "print('ball_7:', ball_7.shape)\n",
    "print('ball_14:', ball_14.shape)\n",
    "print('ball_21:', ball_21.shape)\n",
    "print('inner_7:', inner_7.shape)\n",
    "print('inner_14:', inner_14.shape)\n",
    "print('inner_21:', inner_21.shape)\n",
    "print('outer_7:', outer_7.shape)\n",
    "print('outer_14:', outer_14.shape)\n",
    "print('outer_21:', outer_21.shape)\n",
    "print('normal:', normal.shape)"
   ]
  },
  {
   "cell_type": "code",
   "execution_count": 9,
   "metadata": {
    "ExecuteTime": {
     "end_time": "2019-12-14T11:23:29.301844Z",
     "start_time": "2019-12-14T11:23:29.289848Z"
    },
    "hidden": true
   },
   "outputs": [],
   "source": [
    "def reshapeAsimage(data):\n",
    "    \"\"\"\n",
    "    inputshape = (Number, Channel, Height(f), Width(t))\n",
    "    outputshape = (Number, Height(f), Width(t), Channel)\n",
    "    \"\"\"\n",
    "    N, H, W, C = data.shape[0], data.shape[2], data.shape[3], data.shape[1]\n",
    "    reshape = np.zeros([N, H, W, C])\n",
    "    for n in range(N):\n",
    "        for f in range(H):\n",
    "            for t in range(W):\n",
    "                for c in range(C):\n",
    "                    reshape[n, f, t, c] = data[n, c, f, t]\n",
    "    return reshape"
   ]
  },
  {
   "cell_type": "code",
   "execution_count": 10,
   "metadata": {
    "ExecuteTime": {
     "end_time": "2019-12-14T11:26:51.244481Z",
     "start_time": "2019-12-14T11:23:30.427611Z"
    },
    "hidden": true
   },
   "outputs": [
    {
     "name": "stdout",
     "output_type": "stream",
     "text": [
      "ball_7: (1000, 100, 100, 6)\n",
      "ball_14: (1000, 100, 100, 6)\n",
      "ball_21: (1000, 100, 100, 6)\n",
      "inner_7: (1000, 100, 100, 6)\n",
      "inner_14: (1000, 100, 100, 6)\n",
      "inner_21: (1000, 100, 100, 6)\n",
      "outer_7: (1000, 100, 100, 6)\n",
      "outer_14: (1000, 100, 100, 6)\n",
      "outer_21: (1000, 100, 100, 6)\n",
      "normal: (1000, 100, 100, 6)\n"
     ]
    }
   ],
   "source": [
    "ball_7 = reshapeAsimage(ball_7)\n",
    "ball_14 = reshapeAsimage(ball_14)\n",
    "ball_21 = reshapeAsimage(ball_21)\n",
    "inner_7 = reshapeAsimage(inner_7)\n",
    "inner_14 = reshapeAsimage(inner_14)\n",
    "inner_21 = reshapeAsimage(inner_21)\n",
    "outer_7 = reshapeAsimage(outer_7)\n",
    "outer_14 = reshapeAsimage(outer_14)\n",
    "outer_21 = reshapeAsimage(outer_21)\n",
    "normal = reshapeAsimage(normal)\n",
    "\n",
    "print('ball_7:', ball_7.shape)\n",
    "print('ball_14:', ball_14.shape)\n",
    "print('ball_21:', ball_21.shape)\n",
    "print('inner_7:', inner_7.shape)\n",
    "print('inner_14:', inner_14.shape)\n",
    "print('inner_21:', inner_21.shape)\n",
    "print('outer_7:', outer_7.shape)\n",
    "print('outer_14:', outer_14.shape)\n",
    "print('outer_21:', outer_21.shape)\n",
    "print('normal:', normal.shape)"
   ]
  },
  {
   "cell_type": "code",
   "execution_count": 11,
   "metadata": {
    "ExecuteTime": {
     "end_time": "2019-12-14T11:30:51.435287Z",
     "start_time": "2019-12-14T11:30:51.283289Z"
    },
    "hidden": true
   },
   "outputs": [],
   "source": [
    "listdata = [ball_7, ball_14, ball_21, inner_7, inner_14, inner_21, outer_7, outer_14, outer_21, normal]"
   ]
  },
  {
   "cell_type": "code",
   "execution_count": 12,
   "metadata": {
    "ExecuteTime": {
     "end_time": "2019-12-14T11:30:56.967651Z",
     "start_time": "2019-12-14T11:30:54.321633Z"
    },
    "code_folding": [],
    "hidden": true
   },
   "outputs": [],
   "source": [
    "train_dir = '/mnt/disk1/yunseob/courses/19-2_computer vision/data/HHT/linear/train'\n",
    "test_dir = '/mnt/disk1/yunseob/courses/19-2_computer vision/data/HHT/linear/test'\n",
    "\n",
    "for data, filename in zip(listdata, listdir):\n",
    "    np.save(os.path.join(train_dir, filename), data[:750])\n",
    "    np.save(os.path.join(test_dir, filename), data[750:])"
   ]
  },
  {
   "cell_type": "markdown",
   "metadata": {
    "heading_collapsed": true
   },
   "source": [
    "## 6ch (shifted IMFs noise)"
   ]
  },
  {
   "cell_type": "code",
   "execution_count": 3,
   "metadata": {
    "ExecuteTime": {
     "end_time": "2019-12-15T06:17:26.525933Z",
     "start_time": "2019-12-15T06:17:26.513008Z"
    },
    "hidden": true
   },
   "outputs": [
    {
     "data": {
      "text/plain": [
       "['normal.npy',\n",
       " 'ball_7.npy',\n",
       " 'ball_14.npy',\n",
       " 'ball_21.npy',\n",
       " 'inner_7.npy',\n",
       " 'inner_14.npy',\n",
       " 'inner_21.npy',\n",
       " 'outer_7.npy',\n",
       " 'outer_14.npy',\n",
       " 'outer_21.npy']"
      ]
     },
     "execution_count": 3,
     "metadata": {},
     "output_type": "execute_result"
    }
   ],
   "source": [
    "data_dir =  '/mnt/disk2/data/open_source/Bearing Data Center/forCV/HHT_v2_clean'\n",
    "npy_files = os.listdir(data_dir)\n",
    "npy_files"
   ]
  },
  {
   "cell_type": "code",
   "execution_count": 4,
   "metadata": {
    "ExecuteTime": {
     "end_time": "2019-12-15T06:17:44.367741Z",
     "start_time": "2019-12-15T06:17:40.987074Z"
    },
    "hidden": true
   },
   "outputs": [
    {
     "name": "stdout",
     "output_type": "stream",
     "text": [
      "ball_7: (1000, 6, 100, 100)\n",
      "ball_14: (1000, 6, 100, 100)\n",
      "ball_21: (1000, 6, 100, 100)\n",
      "inner_7: (1000, 6, 100, 100)\n",
      "inner_14: (1000, 6, 100, 100)\n",
      "inner_21: (1000, 6, 100, 100)\n",
      "outer_7: (1000, 6, 100, 100)\n",
      "outer_14: (1000, 6, 100, 100)\n",
      "outer_21: (1000, 6, 100, 100)\n",
      "normal: (1000, 6, 100, 100)\n"
     ]
    }
   ],
   "source": [
    "normal = np.load(os.path.join(data_dir, str([i for i in npy_files if 'normal' in i][0])))\n",
    "ball_7 = np.load(os.path.join(data_dir, str([i for i in npy_files if 'ball_7' in i][0])))\n",
    "ball_14 = np.load(os.path.join(data_dir, str([i for i in npy_files if 'ball_14' in i][0])))\n",
    "ball_21 = np.load(os.path.join(data_dir, str([i for i in npy_files if 'ball_21' in i][0])))\n",
    "inner_7 = np.load(os.path.join(data_dir, str([i for i in npy_files if 'inner_7' in i][0])))\n",
    "inner_14 = np.load(os.path.join(data_dir, str([i for i in npy_files if 'inner_14' in i][0])))\n",
    "inner_21 = np.load(os.path.join(data_dir, str([i for i in npy_files if 'inner_21' in i][0])))\n",
    "outer_7 = np.load(os.path.join(data_dir, str([i for i in npy_files if 'outer_7' in i][0])))\n",
    "outer_14 = np.load(os.path.join(data_dir, str([i for i in npy_files if 'outer_14' in i][0])))\n",
    "outer_21 = np.load(os.path.join(data_dir, str([i for i in npy_files if 'outer_21' in i][0])))\n",
    "\n",
    "print('ball_7:', ball_7.shape)\n",
    "print('ball_14:', ball_14.shape)\n",
    "print('ball_21:', ball_21.shape)\n",
    "print('inner_7:', inner_7.shape)\n",
    "print('inner_14:', inner_14.shape)\n",
    "print('inner_21:', inner_21.shape)\n",
    "print('outer_7:', outer_7.shape)\n",
    "print('outer_14:', outer_14.shape)\n",
    "print('outer_21:', outer_21.shape)\n",
    "print('normal:', normal.shape)"
   ]
  },
  {
   "cell_type": "code",
   "execution_count": 6,
   "metadata": {
    "ExecuteTime": {
     "end_time": "2019-12-15T06:23:44.909180Z",
     "start_time": "2019-12-15T06:20:40.582254Z"
    },
    "hidden": true
   },
   "outputs": [
    {
     "name": "stdout",
     "output_type": "stream",
     "text": [
      "ball_7: (1000, 100, 100, 6)\n",
      "ball_14: (1000, 100, 100, 6)\n",
      "ball_21: (1000, 100, 100, 6)\n",
      "inner_7: (1000, 100, 100, 6)\n",
      "inner_14: (1000, 100, 100, 6)\n",
      "inner_21: (1000, 100, 100, 6)\n",
      "outer_7: (1000, 100, 100, 6)\n",
      "outer_14: (1000, 100, 100, 6)\n",
      "outer_21: (1000, 100, 100, 6)\n",
      "normal: (1000, 100, 100, 6)\n"
     ]
    }
   ],
   "source": [
    "ball_7 = reshapeAsimage(ball_7)\n",
    "ball_14 = reshapeAsimage(ball_14)\n",
    "ball_21 = reshapeAsimage(ball_21)\n",
    "inner_7 = reshapeAsimage(inner_7)\n",
    "inner_14 = reshapeAsimage(inner_14)\n",
    "inner_21 = reshapeAsimage(inner_21)\n",
    "outer_7 = reshapeAsimage(outer_7)\n",
    "outer_14 = reshapeAsimage(outer_14)\n",
    "outer_21 = reshapeAsimage(outer_21)\n",
    "normal = reshapeAsimage(normal)\n",
    "\n",
    "print('ball_7:', ball_7.shape)\n",
    "print('ball_14:', ball_14.shape)\n",
    "print('ball_21:', ball_21.shape)\n",
    "print('inner_7:', inner_7.shape)\n",
    "print('inner_14:', inner_14.shape)\n",
    "print('inner_21:', inner_21.shape)\n",
    "print('outer_7:', outer_7.shape)\n",
    "print('outer_14:', outer_14.shape)\n",
    "print('outer_21:', outer_21.shape)\n",
    "print('normal:', normal.shape)"
   ]
  },
  {
   "cell_type": "code",
   "execution_count": 9,
   "metadata": {
    "ExecuteTime": {
     "end_time": "2019-12-15T06:26:47.884339Z",
     "start_time": "2019-12-15T06:26:47.878810Z"
    },
    "hidden": true
   },
   "outputs": [],
   "source": [
    "listdata = [normal, ball_7, ball_14, ball_21, inner_7, inner_14, inner_21, outer_7, outer_14, outer_21]"
   ]
  },
  {
   "cell_type": "code",
   "execution_count": 8,
   "metadata": {
    "ExecuteTime": {
     "end_time": "2019-12-15T06:26:19.920035Z",
     "start_time": "2019-12-15T06:26:19.911978Z"
    },
    "hidden": true
   },
   "outputs": [
    {
     "data": {
      "text/plain": [
       "['normal.npy',\n",
       " 'ball_7.npy',\n",
       " 'ball_14.npy',\n",
       " 'ball_21.npy',\n",
       " 'inner_7.npy',\n",
       " 'inner_14.npy',\n",
       " 'inner_21.npy',\n",
       " 'outer_7.npy',\n",
       " 'outer_14.npy',\n",
       " 'outer_21.npy']"
      ]
     },
     "execution_count": 8,
     "metadata": {},
     "output_type": "execute_result"
    }
   ],
   "source": [
    "npy_files"
   ]
  },
  {
   "cell_type": "code",
   "execution_count": 11,
   "metadata": {
    "ExecuteTime": {
     "end_time": "2019-12-15T06:27:51.669511Z",
     "start_time": "2019-12-15T06:27:48.855564Z"
    },
    "hidden": true
   },
   "outputs": [],
   "source": [
    "train_dir = '/mnt/disk1/yunseob/courses/19-2_computer vision/data/HHT/6ch/train'\n",
    "test_dir = '/mnt/disk1/yunseob/courses/19-2_computer vision/data/HHT/6ch/test'\n",
    "\n",
    "for data, filename in zip(listdata, npy_files):\n",
    "    np.save(os.path.join(train_dir, filename), data[:750])\n",
    "    np.save(os.path.join(test_dir, filename), data[750:])"
   ]
  },
  {
   "cell_type": "markdown",
   "metadata": {},
   "source": [
    "## 8ch noisy"
   ]
  },
  {
   "cell_type": "code",
   "execution_count": 4,
   "metadata": {
    "ExecuteTime": {
     "end_time": "2019-12-15T08:19:06.064989Z",
     "start_time": "2019-12-15T08:19:06.052665Z"
    }
   },
   "outputs": [
    {
     "data": {
      "text/plain": [
       "['.ipynb_checkpoints',\n",
       " 'minus4.npy',\n",
       " 'minus2.npy',\n",
       " '0.npy',\n",
       " '2.npy',\n",
       " '4.npy',\n",
       " '6.npy',\n",
       " '8.npy',\n",
       " '10.npy',\n",
       " 'minus4_y.npy',\n",
       " 'minus2_y.npy',\n",
       " '0_y.npy',\n",
       " '2_y.npy',\n",
       " '4_y.npy',\n",
       " '6_y.npy',\n",
       " '8_y.npy',\n",
       " '10_y.npy']"
      ]
     },
     "execution_count": 4,
     "metadata": {},
     "output_type": "execute_result"
    }
   ],
   "source": [
    "data_dir = '/mnt/disk1/yunseob/courses/19-2_computer vision/data/HHT/8ch_noisy'\n",
    "npy_files = os.listdir(data_dir)\n",
    "npy_files"
   ]
  },
  {
   "cell_type": "code",
   "execution_count": 5,
   "metadata": {
    "ExecuteTime": {
     "end_time": "2019-12-15T08:19:59.612893Z",
     "start_time": "2019-12-15T08:19:56.439624Z"
    }
   },
   "outputs": [
    {
     "name": "stdout",
     "output_type": "stream",
     "text": [
      "(1000, 100, 100, 8) (1000, 10)\n"
     ]
    }
   ],
   "source": [
    "test_x_hht_m4 = np.load(os.path.join(data_dir, 'minus4.npy'))\n",
    "test_x_hht_m2 = np.load(os.path.join(data_dir, 'minus2.npy'))\n",
    "test_x_hht_0 = np.load(os.path.join(data_dir, '0.npy'))\n",
    "test_x_hht_2 = np.load(os.path.join(data_dir, '2.npy'))\n",
    "test_x_hht_4 = np.load(os.path.join(data_dir, '4.npy'))\n",
    "test_x_hht_6 = np.load(os.path.join(data_dir, '6.npy'))\n",
    "test_x_hht_8 = np.load(os.path.join(data_dir, '8.npy'))\n",
    "test_x_hht_10 = np.load(os.path.join(data_dir, '10.npy'))\n",
    "\n",
    "labels_hht_m4 = np.load(os.path.join(data_dir, 'minus4_y.npy'))\n",
    "labels_hht_m2 = np.load(os.path.join(data_dir, 'minus2_y.npy'))\n",
    "labels_hht_0 = np.load(os.path.join(data_dir, '0_y.npy'))\n",
    "labels_hht_2 = np.load(os.path.join(data_dir, '2_y.npy'))\n",
    "labels_hht_4 = np.load(os.path.join(data_dir, '4_y.npy'))\n",
    "labels_hht_6 = np.load(os.path.join(data_dir, '6_y.npy'))\n",
    "labels_hht_8 = np.load(os.path.join(data_dir, '8_y.npy'))\n",
    "labels_hht_10 = np.load(os.path.join(data_dir, '10_y.npy'))\n",
    "\n",
    "print(test_x_hht_m4.shape, labels_hht_m4.shape)"
   ]
  },
  {
   "cell_type": "code",
   "execution_count": 9,
   "metadata": {
    "ExecuteTime": {
     "end_time": "2019-12-15T08:20:41.018351Z",
     "start_time": "2019-12-15T08:20:41.011164Z"
    }
   },
   "outputs": [
    {
     "data": {
      "text/plain": [
       "array([0, 0, 1, 0, 0, 0, 0, 0, 0, 0])"
      ]
     },
     "execution_count": 9,
     "metadata": {},
     "output_type": "execute_result"
    }
   ],
   "source": [
    "labels_hht_m4[200]"
   ]
  },
  {
   "cell_type": "code",
   "execution_count": 14,
   "metadata": {
    "ExecuteTime": {
     "end_time": "2019-12-15T08:26:25.010713Z",
     "start_time": "2019-12-15T08:26:25.001910Z"
    }
   },
   "outputs": [
    {
     "data": {
      "text/plain": [
       "(10, 80, 10)"
      ]
     },
     "execution_count": 14,
     "metadata": {},
     "output_type": "execute_result"
    }
   ],
   "source": [
    "np.array([labels_hht_m4[100*i:100*i+80] for i in range(10)]).shape"
   ]
  },
  {
   "cell_type": "code",
   "execution_count": 15,
   "metadata": {
    "ExecuteTime": {
     "end_time": "2019-12-15T08:26:35.802056Z",
     "start_time": "2019-12-15T08:26:35.797363Z"
    }
   },
   "outputs": [],
   "source": [
    "from utils import batch_flatten"
   ]
  },
  {
   "cell_type": "code",
   "execution_count": 22,
   "metadata": {
    "ExecuteTime": {
     "end_time": "2019-12-15T08:27:33.098346Z",
     "start_time": "2019-12-15T08:27:33.089371Z"
    }
   },
   "outputs": [
    {
     "data": {
      "text/plain": [
       "array([0, 0, 0, 1, 0, 0, 0, 0, 0, 0])"
      ]
     },
     "execution_count": 22,
     "metadata": {},
     "output_type": "execute_result"
    }
   ],
   "source": [
    "batch_flatten([labels_hht_m4[100*i:100*i+80] for i in range(10)])"
   ]
  },
  {
   "cell_type": "code",
   "execution_count": 24,
   "metadata": {
    "ExecuteTime": {
     "end_time": "2019-12-15T08:28:55.554154Z",
     "start_time": "2019-12-15T08:28:55.545032Z"
    }
   },
   "outputs": [
    {
     "data": {
      "text/plain": [
       "array([[1, 0, 0, ..., 0, 0, 0],\n",
       "       [1, 0, 0, ..., 0, 0, 0],\n",
       "       [1, 0, 0, ..., 0, 0, 0],\n",
       "       ...,\n",
       "       [0, 0, 0, ..., 0, 0, 1],\n",
       "       [0, 0, 0, ..., 0, 0, 1],\n",
       "       [0, 0, 0, ..., 0, 0, 1]])"
      ]
     },
     "execution_count": 24,
     "metadata": {},
     "output_type": "execute_result"
    }
   ],
   "source": [
    "batch_flatten([labels_hht_m4[100*i+80:100*i+100] for i in range(10)])"
   ]
  },
  {
   "cell_type": "code",
   "execution_count": 26,
   "metadata": {
    "ExecuteTime": {
     "end_time": "2019-12-15T08:39:27.543272Z",
     "start_time": "2019-12-15T08:39:27.093884Z"
    }
   },
   "outputs": [],
   "source": [
    "train_dir = '/mnt/disk1/yunseob/courses/19-2_computer vision/data/HHT/8ch_noisy/train'\n",
    "test_dir = '/mnt/disk1/yunseob/courses/19-2_computer vision/data/HHT/8ch_noisy/test'\n",
    "\n",
    "dBs = ['minus4', 'minus2', '0', '2', '4', '6', '8', '10']\n",
    "\n",
    "noisy_hhts = [test_x_hht_m4, test_x_hht_2, test_x_hht_0, test_x_hht_2, test_x_hht_4, \n",
    "                  test_x_hht_6, test_x_hht_8, test_x_hht_10]\n",
    "noisy_hhts_lab = [labels_hht_m4, labels_hht_2, labels_hht_0, labels_hht_2, labels_hht_4, \n",
    "                      labels_hht_6, labels_hht_8, labels_hht_10]\n",
    "\n",
    "for dB, n_hht, n_lab in zip(dBs, noisy_hhts, noisy_hhts_lab):\n",
    "    n_hht_train = batch_flatten([n_hht[100*i:100*i+80] for i in range(10)])\n",
    "    n_lab_train = batch_flatten([n_lab[100*i:100*i+80] for i in range(10)])\n",
    "    n_hht_test = batch_flatten([n_hht[100*i+80:100*i+100] for i in range(10)])\n",
    "    n_lab_test = batch_flatten([n_lab[100*i+80:100*i+100] for i in range(10)])\n",
    "    \n",
    "    np.save(os.path.join(train_dir, dB), n_hht_train)\n",
    "    np.save(os.path.join(train_dir, dB + '_y'), n_lab_train)\n",
    "    \n",
    "    np.save(os.path.join(test_dir, dB), n_hht_test)\n",
    "    np.save(os.path.join(test_dir, dB + '_y'), n_lab_test)"
   ]
  },
  {
   "cell_type": "markdown",
   "metadata": {},
   "source": [
    "# STFT"
   ]
  },
  {
   "cell_type": "markdown",
   "metadata": {
    "heading_collapsed": true
   },
   "source": [
    "## v0"
   ]
  },
  {
   "cell_type": "code",
   "execution_count": 5,
   "metadata": {
    "ExecuteTime": {
     "end_time": "2019-12-14T14:05:10.313882Z",
     "start_time": "2019-12-14T14:05:10.301985Z"
    },
    "hidden": true
   },
   "outputs": [
    {
     "data": {
      "text/plain": [
       "['normal.npy',\n",
       " 'ball_7.npy',\n",
       " 'ball_14.npy',\n",
       " 'ball_21.npy',\n",
       " 'inner_7.npy',\n",
       " 'inner_14.npy',\n",
       " 'inner_21.npy',\n",
       " 'outer_7.npy',\n",
       " 'outer_14.npy',\n",
       " 'outer_21.npy']"
      ]
     },
     "execution_count": 5,
     "metadata": {},
     "output_type": "execute_result"
    }
   ],
   "source": [
    "data_dir =  '/mnt/disk1/yunseob/courses/19-2_computer vision/data/STFT'\n",
    "npy_files = os.listdir(data_dir)\n",
    "npy_files = [i for i in npy_files if 'npy' in i]\n",
    "npy_files"
   ]
  },
  {
   "cell_type": "code",
   "execution_count": 6,
   "metadata": {
    "ExecuteTime": {
     "end_time": "2019-12-14T14:05:18.205544Z",
     "start_time": "2019-12-14T14:05:15.934435Z"
    },
    "hidden": true
   },
   "outputs": [
    {
     "name": "stdout",
     "output_type": "stream",
     "text": [
      "ball_7: (1000, 100, 100, 1)\n",
      "ball_14: (1000, 100, 100, 1)\n",
      "ball_21: (1000, 100, 100, 1)\n",
      "inner_7: (1000, 100, 100, 1)\n",
      "inner_14: (1000, 100, 100, 1)\n",
      "inner_21: (1000, 100, 100, 1)\n",
      "outer_7: (1000, 100, 100, 1)\n",
      "outer_14: (1000, 100, 100, 1)\n",
      "outer_21: (1000, 100, 100, 1)\n",
      "normal: (1000, 100, 100, 1)\n"
     ]
    }
   ],
   "source": [
    "normal = np.load(os.path.join(data_dir, str([i for i in npy_files if 'normal' in i][0])))\n",
    "ball_7 = np.load(os.path.join(data_dir, str([i for i in npy_files if 'ball_7' in i][0])))\n",
    "ball_14 = np.load(os.path.join(data_dir, str([i for i in npy_files if 'ball_14' in i][0])))\n",
    "ball_21 = np.load(os.path.join(data_dir, str([i for i in npy_files if 'ball_21' in i][0])))\n",
    "inner_7 = np.load(os.path.join(data_dir, str([i for i in npy_files if 'inner_7' in i][0])))\n",
    "inner_14 = np.load(os.path.join(data_dir, str([i for i in npy_files if 'inner_14' in i][0])))\n",
    "inner_21 = np.load(os.path.join(data_dir, str([i for i in npy_files if 'inner_21' in i][0])))\n",
    "outer_7 = np.load(os.path.join(data_dir, str([i for i in npy_files if 'outer_7' in i][0])))\n",
    "outer_14 = np.load(os.path.join(data_dir, str([i for i in npy_files if 'outer_14' in i][0])))\n",
    "outer_21 = np.load(os.path.join(data_dir, str([i for i in npy_files if 'outer_21' in i][0])))\n",
    "\n",
    "print('ball_7:', ball_7.shape)\n",
    "print('ball_14:', ball_14.shape)\n",
    "print('ball_21:', ball_21.shape)\n",
    "print('inner_7:', inner_7.shape)\n",
    "print('inner_14:', inner_14.shape)\n",
    "print('inner_21:', inner_21.shape)\n",
    "print('outer_7:', outer_7.shape)\n",
    "print('outer_14:', outer_14.shape)\n",
    "print('outer_21:', outer_21.shape)\n",
    "print('normal:', normal.shape)"
   ]
  },
  {
   "cell_type": "code",
   "execution_count": 7,
   "metadata": {
    "ExecuteTime": {
     "end_time": "2019-12-14T14:06:15.697570Z",
     "start_time": "2019-12-14T14:06:15.691224Z"
    },
    "hidden": true
   },
   "outputs": [],
   "source": [
    "listdata = [ball_7, ball_14, ball_21, inner_7, inner_14, inner_21, outer_7, outer_14, outer_21, normal]"
   ]
  },
  {
   "cell_type": "code",
   "execution_count": null,
   "metadata": {
    "hidden": true
   },
   "outputs": [],
   "source": [
    "train_dir = '/mnt/disk1/yunseob/courses/19-2_computer vision/data/STFT/v0/train'\n",
    "test_dir = '/mnt/disk1/yunseob/courses/19-2_computer vision/data/STFT/v0/test'\n",
    "\n",
    "for data, filename in zip(listdata, npy_files):\n",
    "    np.save(os.path.join(train_dir, filename), data[:750])\n",
    "    np.save(os.path.join(test_dir, filename), data[750:])"
   ]
  },
  {
   "cell_type": "markdown",
   "metadata": {
    "heading_collapsed": true
   },
   "source": [
    "## v1"
   ]
  },
  {
   "cell_type": "code",
   "execution_count": 6,
   "metadata": {
    "ExecuteTime": {
     "end_time": "2019-12-14T14:36:56.317504Z",
     "start_time": "2019-12-14T14:36:56.309151Z"
    },
    "hidden": true
   },
   "outputs": [
    {
     "data": {
      "text/plain": [
       "['dball_7.npy',\n",
       " 'dball_14.npy',\n",
       " 'dball_21.npy',\n",
       " 'dinner_7.npy',\n",
       " 'dinner_14.npy',\n",
       " 'dinner_21.npy',\n",
       " 'douter_7.npy',\n",
       " 'douter_14.npy',\n",
       " 'douter_21.npy',\n",
       " 'normal.npy']"
      ]
     },
     "execution_count": 6,
     "metadata": {},
     "output_type": "execute_result"
    }
   ],
   "source": [
    "data_dir =  '/mnt/disk2/data/open_source/Bearing Data Center/forCV/STFT_100'\n",
    "npy_files = os.listdir(data_dir)\n",
    "npy_files"
   ]
  },
  {
   "cell_type": "code",
   "execution_count": 7,
   "metadata": {
    "ExecuteTime": {
     "end_time": "2019-12-14T14:37:22.352807Z",
     "start_time": "2019-12-14T14:37:22.047844Z"
    },
    "hidden": true
   },
   "outputs": [
    {
     "name": "stdout",
     "output_type": "stream",
     "text": [
      "ball_7: (1000, 100, 100)\n",
      "ball_14: (1000, 100, 100)\n",
      "ball_21: (1000, 100, 100)\n",
      "inner_7: (1000, 100, 100)\n",
      "inner_14: (1000, 100, 100)\n",
      "inner_21: (1000, 100, 100)\n",
      "outer_7: (1000, 100, 100)\n",
      "outer_14: (1000, 100, 100)\n",
      "outer_21: (1000, 100, 100)\n",
      "normal: (1000, 100, 100)\n"
     ]
    }
   ],
   "source": [
    "normal = np.load(os.path.join(data_dir, str([i for i in npy_files if 'normal' in i][0])))\n",
    "ball_7 = np.load(os.path.join(data_dir, str([i for i in npy_files if 'ball_7' in i][0])))\n",
    "ball_14 = np.load(os.path.join(data_dir, str([i for i in npy_files if 'ball_14' in i][0])))\n",
    "ball_21 = np.load(os.path.join(data_dir, str([i for i in npy_files if 'ball_21' in i][0])))\n",
    "inner_7 = np.load(os.path.join(data_dir, str([i for i in npy_files if 'inner_7' in i][0])))\n",
    "inner_14 = np.load(os.path.join(data_dir, str([i for i in npy_files if 'inner_14' in i][0])))\n",
    "inner_21 = np.load(os.path.join(data_dir, str([i for i in npy_files if 'inner_21' in i][0])))\n",
    "outer_7 = np.load(os.path.join(data_dir, str([i for i in npy_files if 'outer_7' in i][0])))\n",
    "outer_14 = np.load(os.path.join(data_dir, str([i for i in npy_files if 'outer_14' in i][0])))\n",
    "outer_21 = np.load(os.path.join(data_dir, str([i for i in npy_files if 'outer_21' in i][0])))\n",
    "\n",
    "print('ball_7:', ball_7.shape)\n",
    "print('ball_14:', ball_14.shape)\n",
    "print('ball_21:', ball_21.shape)\n",
    "print('inner_7:', inner_7.shape)\n",
    "print('inner_14:', inner_14.shape)\n",
    "print('inner_21:', inner_21.shape)\n",
    "print('outer_7:', outer_7.shape)\n",
    "print('outer_14:', outer_14.shape)\n",
    "print('outer_21:', outer_21.shape)\n",
    "print('normal:', normal.shape)"
   ]
  },
  {
   "cell_type": "code",
   "execution_count": 8,
   "metadata": {
    "ExecuteTime": {
     "end_time": "2019-12-14T14:37:32.425917Z",
     "start_time": "2019-12-14T14:37:32.419379Z"
    },
    "hidden": true
   },
   "outputs": [],
   "source": [
    "listdata = [ball_7, ball_14, ball_21, inner_7, inner_14, inner_21, outer_7, outer_14, outer_21, normal]"
   ]
  },
  {
   "cell_type": "code",
   "execution_count": 10,
   "metadata": {
    "ExecuteTime": {
     "end_time": "2019-12-14T14:38:24.768911Z",
     "start_time": "2019-12-14T14:38:24.555502Z"
    },
    "hidden": true
   },
   "outputs": [],
   "source": [
    "train_dir = '/mnt/disk1/yunseob/courses/19-2_computer vision/data/STFT/v1/train'\n",
    "test_dir = '/mnt/disk1/yunseob/courses/19-2_computer vision/data/STFT/v1/test'\n",
    "\n",
    "for data, filename in zip(listdata, npy_files):\n",
    "    np.save(os.path.join(train_dir, filename), data[:750])\n",
    "    np.save(os.path.join(test_dir, filename), data[750:])"
   ]
  },
  {
   "cell_type": "markdown",
   "metadata": {
    "heading_collapsed": true
   },
   "source": [
    "## v2"
   ]
  },
  {
   "cell_type": "code",
   "execution_count": 4,
   "metadata": {
    "ExecuteTime": {
     "end_time": "2019-12-14T16:40:57.978149Z",
     "start_time": "2019-12-14T16:40:57.962558Z"
    },
    "hidden": true
   },
   "outputs": [
    {
     "data": {
      "text/plain": [
       "['dball_7.npy',\n",
       " 'dball_14.npy',\n",
       " 'dball_21.npy',\n",
       " 'dinner_7.npy',\n",
       " 'dinner_14.npy',\n",
       " 'dinner_21.npy',\n",
       " 'douter_7.npy',\n",
       " 'douter_14.npy',\n",
       " 'douter_21.npy',\n",
       " 'normal.npy']"
      ]
     },
     "execution_count": 4,
     "metadata": {},
     "output_type": "execute_result"
    }
   ],
   "source": [
    "data_dir =  '/mnt/disk2/data/open_source/Bearing Data Center/forCV/STFT_v2_150'\n",
    "npy_files = os.listdir(data_dir)\n",
    "npy_files"
   ]
  },
  {
   "cell_type": "code",
   "execution_count": 5,
   "metadata": {
    "ExecuteTime": {
     "end_time": "2019-12-14T16:41:02.651310Z",
     "start_time": "2019-12-14T16:41:01.630156Z"
    },
    "hidden": true,
    "scrolled": true
   },
   "outputs": [
    {
     "name": "stdout",
     "output_type": "stream",
     "text": [
      "ball_7: (1000, 150, 150)\n",
      "ball_14: (1000, 150, 150)\n",
      "ball_21: (1000, 150, 150)\n",
      "inner_7: (1000, 150, 150)\n",
      "inner_14: (1000, 150, 150)\n",
      "inner_21: (1000, 150, 150)\n",
      "outer_7: (1000, 150, 150)\n",
      "outer_14: (1000, 150, 150)\n",
      "outer_21: (1000, 150, 150)\n",
      "normal: (1000, 150, 150)\n"
     ]
    }
   ],
   "source": [
    "normal = np.load(os.path.join(data_dir, str([i for i in npy_files if 'normal' in i][0])))\n",
    "ball_7 = np.load(os.path.join(data_dir, str([i for i in npy_files if 'ball_7' in i][0])))\n",
    "ball_14 = np.load(os.path.join(data_dir, str([i for i in npy_files if 'ball_14' in i][0])))\n",
    "ball_21 = np.load(os.path.join(data_dir, str([i for i in npy_files if 'ball_21' in i][0])))\n",
    "inner_7 = np.load(os.path.join(data_dir, str([i for i in npy_files if 'inner_7' in i][0])))\n",
    "inner_14 = np.load(os.path.join(data_dir, str([i for i in npy_files if 'inner_14' in i][0])))\n",
    "inner_21 = np.load(os.path.join(data_dir, str([i for i in npy_files if 'inner_21' in i][0])))\n",
    "outer_7 = np.load(os.path.join(data_dir, str([i for i in npy_files if 'outer_7' in i][0])))\n",
    "outer_14 = np.load(os.path.join(data_dir, str([i for i in npy_files if 'outer_14' in i][0])))\n",
    "outer_21 = np.load(os.path.join(data_dir, str([i for i in npy_files if 'outer_21' in i][0])))\n",
    "\n",
    "print('ball_7:', ball_7.shape)\n",
    "print('ball_14:', ball_14.shape)\n",
    "print('ball_21:', ball_21.shape)\n",
    "print('inner_7:', inner_7.shape)\n",
    "print('inner_14:', inner_14.shape)\n",
    "print('inner_21:', inner_21.shape)\n",
    "print('outer_7:', outer_7.shape)\n",
    "print('outer_14:', outer_14.shape)\n",
    "print('outer_21:', outer_21.shape)\n",
    "print('normal:', normal.shape)"
   ]
  },
  {
   "cell_type": "code",
   "execution_count": 6,
   "metadata": {
    "ExecuteTime": {
     "end_time": "2019-12-14T16:41:09.040813Z",
     "start_time": "2019-12-14T16:41:09.034321Z"
    },
    "hidden": true
   },
   "outputs": [],
   "source": [
    "listdata = [ball_7, ball_14, ball_21, inner_7, inner_14, inner_21, outer_7, outer_14, outer_21, normal]"
   ]
  },
  {
   "cell_type": "code",
   "execution_count": 7,
   "metadata": {
    "ExecuteTime": {
     "end_time": "2019-12-14T16:43:04.109949Z",
     "start_time": "2019-12-14T16:43:03.194234Z"
    },
    "hidden": true
   },
   "outputs": [],
   "source": [
    "train_dir = '/mnt/disk1/yunseob/courses/19-2_computer vision/data/STFT/v2/train'\n",
    "test_dir = '/mnt/disk1/yunseob/courses/19-2_computer vision/data/STFT/v2/test'\n",
    "\n",
    "for data, filename in zip(listdata, npy_files):\n",
    "    np.save(os.path.join(train_dir, filename), data[:750])\n",
    "    np.save(os.path.join(test_dir, filename), data[750:])"
   ]
  },
  {
   "cell_type": "markdown",
   "metadata": {
    "heading_collapsed": true
   },
   "source": [
    "## 8 ch"
   ]
  },
  {
   "cell_type": "code",
   "execution_count": 8,
   "metadata": {
    "ExecuteTime": {
     "end_time": "2019-12-14T19:36:36.984586Z",
     "start_time": "2019-12-14T19:36:36.974654Z"
    },
    "hidden": true
   },
   "outputs": [
    {
     "data": {
      "text/plain": [
       "['dball_7.npy',\n",
       " 'dball_14.npy',\n",
       " 'dball_21.npy',\n",
       " 'dinner_7.npy',\n",
       " 'dinner_14.npy',\n",
       " 'dinner_21.npy',\n",
       " 'douter_7.npy',\n",
       " 'douter_14.npy',\n",
       " 'douter_21.npy',\n",
       " 'normal.npy']"
      ]
     },
     "execution_count": 8,
     "metadata": {},
     "output_type": "execute_result"
    }
   ],
   "source": [
    "data_dir =  '/mnt/disk2/data/open_source/Bearing Data Center/forCV/STFT_channel'\n",
    "npy_files = os.listdir(data_dir)\n",
    "npy_files"
   ]
  },
  {
   "cell_type": "code",
   "execution_count": 9,
   "metadata": {
    "ExecuteTime": {
     "end_time": "2019-12-14T19:36:47.709405Z",
     "start_time": "2019-12-14T19:36:46.150228Z"
    },
    "hidden": true,
    "scrolled": true
   },
   "outputs": [
    {
     "name": "stdout",
     "output_type": "stream",
     "text": [
      "ball_7: (800, 8, 100, 100)\n",
      "ball_14: (800, 8, 100, 100)\n",
      "ball_21: (800, 8, 100, 100)\n",
      "inner_7: (800, 8, 100, 100)\n",
      "inner_14: (800, 8, 100, 100)\n",
      "inner_21: (800, 8, 100, 100)\n",
      "outer_7: (800, 8, 100, 100)\n",
      "outer_14: (800, 8, 100, 100)\n",
      "outer_21: (800, 8, 100, 100)\n",
      "normal: (800, 8, 100, 100)\n"
     ]
    }
   ],
   "source": [
    "normal = np.load(os.path.join(data_dir, str([i for i in npy_files if 'normal' in i][0])))\n",
    "ball_7 = np.load(os.path.join(data_dir, str([i for i in npy_files if 'ball_7' in i][0])))\n",
    "ball_14 = np.load(os.path.join(data_dir, str([i for i in npy_files if 'ball_14' in i][0])))\n",
    "ball_21 = np.load(os.path.join(data_dir, str([i for i in npy_files if 'ball_21' in i][0])))\n",
    "inner_7 = np.load(os.path.join(data_dir, str([i for i in npy_files if 'inner_7' in i][0])))\n",
    "inner_14 = np.load(os.path.join(data_dir, str([i for i in npy_files if 'inner_14' in i][0])))\n",
    "inner_21 = np.load(os.path.join(data_dir, str([i for i in npy_files if 'inner_21' in i][0])))\n",
    "outer_7 = np.load(os.path.join(data_dir, str([i for i in npy_files if 'outer_7' in i][0])))\n",
    "outer_14 = np.load(os.path.join(data_dir, str([i for i in npy_files if 'outer_14' in i][0])))\n",
    "outer_21 = np.load(os.path.join(data_dir, str([i for i in npy_files if 'outer_21' in i][0])))\n",
    "\n",
    "print('ball_7:', ball_7.shape)\n",
    "print('ball_14:', ball_14.shape)\n",
    "print('ball_21:', ball_21.shape)\n",
    "print('inner_7:', inner_7.shape)\n",
    "print('inner_14:', inner_14.shape)\n",
    "print('inner_21:', inner_21.shape)\n",
    "print('outer_7:', outer_7.shape)\n",
    "print('outer_14:', outer_14.shape)\n",
    "print('outer_21:', outer_21.shape)\n",
    "print('normal:', normal.shape)"
   ]
  },
  {
   "cell_type": "code",
   "execution_count": 11,
   "metadata": {
    "ExecuteTime": {
     "end_time": "2019-12-14T19:41:02.298199Z",
     "start_time": "2019-12-14T19:37:40.501620Z"
    },
    "hidden": true
   },
   "outputs": [
    {
     "name": "stdout",
     "output_type": "stream",
     "text": [
      "ball_7: (800, 100, 100, 8)\n",
      "ball_14: (800, 100, 100, 8)\n",
      "ball_21: (800, 100, 100, 8)\n",
      "inner_7: (800, 100, 100, 8)\n",
      "inner_14: (800, 100, 100, 8)\n",
      "inner_21: (800, 100, 100, 8)\n",
      "outer_7: (800, 100, 100, 8)\n",
      "outer_14: (800, 100, 100, 8)\n",
      "outer_21: (800, 100, 100, 8)\n",
      "normal: (800, 100, 100, 8)\n"
     ]
    }
   ],
   "source": [
    "ball_7 = reshapeAsimage(ball_7)\n",
    "ball_14 = reshapeAsimage(ball_14)\n",
    "ball_21 = reshapeAsimage(ball_21)\n",
    "inner_7 = reshapeAsimage(inner_7)\n",
    "inner_14 = reshapeAsimage(inner_14)\n",
    "inner_21 = reshapeAsimage(inner_21)\n",
    "outer_7 = reshapeAsimage(outer_7)\n",
    "outer_14 = reshapeAsimage(outer_14)\n",
    "outer_21 = reshapeAsimage(outer_21)\n",
    "normal = reshapeAsimage(normal)\n",
    "\n",
    "print('ball_7:', ball_7.shape)\n",
    "print('ball_14:', ball_14.shape)\n",
    "print('ball_21:', ball_21.shape)\n",
    "print('inner_7:', inner_7.shape)\n",
    "print('inner_14:', inner_14.shape)\n",
    "print('inner_21:', inner_21.shape)\n",
    "print('outer_7:', outer_7.shape)\n",
    "print('outer_14:', outer_14.shape)\n",
    "print('outer_21:', outer_21.shape)\n",
    "print('normal:', normal.shape)"
   ]
  },
  {
   "cell_type": "code",
   "execution_count": 12,
   "metadata": {
    "ExecuteTime": {
     "end_time": "2019-12-14T19:42:35.322274Z",
     "start_time": "2019-12-14T19:42:35.227723Z"
    },
    "hidden": true
   },
   "outputs": [],
   "source": [
    "listdata = [ball_7, ball_14, ball_21, inner_7, inner_14, inner_21, outer_7, outer_14, outer_21, normal]"
   ]
  },
  {
   "cell_type": "code",
   "execution_count": 13,
   "metadata": {
    "ExecuteTime": {
     "end_time": "2019-12-14T19:43:10.524168Z",
     "start_time": "2019-12-14T19:43:07.643295Z"
    },
    "hidden": true
   },
   "outputs": [],
   "source": [
    "train_dir = '/mnt/disk1/yunseob/courses/19-2_computer vision/data/STFT/ch/train'\n",
    "test_dir = '/mnt/disk1/yunseob/courses/19-2_computer vision/data/STFT/ch/test'\n",
    "\n",
    "for data, filename in zip(listdata, npy_files):\n",
    "    np.save(os.path.join(train_dir, filename), data[:600])\n",
    "    np.save(os.path.join(test_dir, filename), data[600:])"
   ]
  }
 ],
 "metadata": {
  "hide_input": false,
  "kernelspec": {
   "display_name": "Python 3",
   "language": "python",
   "name": "python3"
  },
  "language_info": {
   "codemirror_mode": {
    "name": "ipython",
    "version": 3
   },
   "file_extension": ".py",
   "mimetype": "text/x-python",
   "name": "python",
   "nbconvert_exporter": "python",
   "pygments_lexer": "ipython3",
   "version": "3.5.2"
  },
  "toc": {
   "base_numbering": 1,
   "nav_menu": {},
   "number_sections": false,
   "sideBar": true,
   "skip_h1_title": false,
   "title_cell": "Table of Contents",
   "title_sidebar": "Contents",
   "toc_cell": false,
   "toc_position": {
    "height": "calc(100% - 180px)",
    "left": "10px",
    "top": "150px",
    "width": "384px"
   },
   "toc_section_display": true,
   "toc_window_display": true
  }
 },
 "nbformat": 4,
 "nbformat_minor": 2
}
